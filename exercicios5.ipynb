{
 "cells": [
  {
   "cell_type": "code",
   "execution_count": 1,
   "metadata": {},
   "outputs": [
    {
     "name": "stdout",
     "output_type": "stream",
     "text": [
      "O número 2 é par \n",
      "O número 4 é par \n",
      "O número 6 é par \n",
      "O número 8 é par \n",
      "O número 10 é par \n",
      "O número 12 é par \n",
      "O número 14 é par \n",
      "O número 16 é par \n",
      "O número 18 é par \n",
      "O número 20 é par \n"
     ]
    }
   ],
   "source": [
    "x = 1 \n",
    "while x <= 20 :\n",
    "    if x % 2 == 0 :\n",
    "        print(f'O número {x} é par ')\n",
    "    x = x + 1"
   ]
  },
  {
   "cell_type": "markdown",
   "metadata": {},
   "source": [
    "2. Gere os 6 números do sorteio da mega-sena de forma aleatória."
   ]
  },
  {
   "cell_type": "code",
   "execution_count": 32,
   "metadata": {},
   "outputs": [
    {
     "name": "stdout",
     "output_type": "stream",
     "text": [
      "32\n",
      "1\n",
      "26\n",
      "59\n",
      "44\n",
      "59\n"
     ]
    }
   ],
   "source": [
    "import random\n",
    "qnumero= 0\n",
    "while qnumero != 6 :\n",
    "    numero = random.randint(1, 60)\n",
    "    print(numero)\n",
    "    qnumero = qnumero + 1 \n",
    "    \n",
    "   \n",
    "\n",
    "    "
   ]
  },
  {
   "cell_type": "markdown",
   "metadata": {},
   "source": [
    "3. Receba alguns número e verifique a soma e a quantidade de todos os pares e ímpares\n",
    "digitados, digite 0 para não receber mais"
   ]
  },
  {
   "cell_type": "code",
   "execution_count": 15,
   "metadata": {},
   "outputs": [
    {
     "name": "stdout",
     "output_type": "stream",
     "text": [
      " a quantidade de números pares foi de 1, a soma dos números pares foi de: 2\n",
      " a quantidade de números ímpared foi de 3, a soma dos números impares foi de: 5\n"
     ]
    }
   ],
   "source": [
    "quantpar = 0\n",
    "quantimpar = 0\n",
    "somapar = 0\n",
    "somaimpar = 0\n",
    "while True :\n",
    "    numero = int(input('insira um número:'))\n",
    "    if numero == 0:\n",
    "        break\n",
    "    if numero % 2 == 0:\n",
    "        quantpar = quantpar + 1\n",
    "        somapar = somapar + numero\n",
    "    if numero % 2 != 0:\n",
    "        quantimpar = quantimpar + 1\n",
    "        somaimpar = somaimpar + numero # somaimpar = somaimpar + numero == somaimopar += numero \n",
    "print (f' a quantidade de números pares foi de {quantpar}, a soma dos números pares foi de: {somapar}')\n",
    "print (f' a quantidade de números ímpares foi de {quantimpar}, a soma dos números impares foi de: {somaimpar}')\n",
    "\n",
    "\n",
    "\n",
    "\n",
    "\n"
   ]
  },
  {
   "cell_type": "markdown",
   "metadata": {},
   "source": [
    "4. Faça um programa em Python que leia 5 valores inteiros e:\n",
    "• Encontre e mostre o maior valor\n",
    "• Encontre e mostre o menor valor\n",
    "• Calcule e mostre a média dos números lidos"
   ]
  },
  {
   "cell_type": "code",
   "execution_count": 2,
   "metadata": {},
   "outputs": [],
   "source": [
    "soma = 0\n",
    "quantnumero= 0 \n",
    "while True:\n",
    "    numero = int((input('insita um número: ')))\n",
    "    quantnumero = quantnumero + 1\n",
    "    numero2 = int((input('insita um número: ')))\n",
    "    quantnumero = quantnumero + 1\n",
    "    numero3= int((input('insita um número: ')))\n",
    "    quantnumero = quantnumero + 1\n",
    "    numero4= int((input('insita um número: ')))\n",
    "    quantnumero = quantnumero + 1\n",
    "    numero5= int((input('insita um número: ')))\n",
    "    quantnumero = quantnumero + 1\n",
    "    soma= soma + numero + numero2 + numero3 + numero4 + numero5 \n",
    "    if quantnumero == 5:\n",
    "        media = soma / 5\n",
    "        break\n",
    "        \n",
    "        \n",
    "\n",
    "\n",
    "\n",
    "\n",
    "\n"
   ]
  },
  {
   "cell_type": "code",
   "execution_count": 8,
   "metadata": {},
   "outputs": [
    {
     "name": "stdout",
     "output_type": "stream",
     "text": [
      "5\n"
     ]
    },
    {
     "ename": "ValueError",
     "evalue": "invalid literal for int() with base 10: ''",
     "output_type": "error",
     "traceback": [
      "\u001b[1;31m---------------------------------------------------------------------------\u001b[0m",
      "\u001b[1;31mValueError\u001b[0m                                Traceback (most recent call last)",
      "Cell \u001b[1;32mIn[8], line 5\u001b[0m\n\u001b[0;32m      3\u001b[0m lista\u001b[38;5;241m=\u001b[39m \u001b[38;5;241m0\u001b[39m\n\u001b[0;32m      4\u001b[0m \u001b[38;5;28;01mwhile\u001b[39;00m \u001b[38;5;28;01mTrue\u001b[39;00m:\n\u001b[1;32m----> 5\u001b[0m     numero \u001b[38;5;241m=\u001b[39m \u001b[38;5;28;43mint\u001b[39;49m\u001b[43m(\u001b[49m\u001b[38;5;28;43minput\u001b[39;49m\u001b[43m(\u001b[49m\u001b[38;5;124;43m'\u001b[39;49m\u001b[38;5;124;43mInsira um número: \u001b[39;49m\u001b[38;5;124;43m'\u001b[39;49m\u001b[43m)\u001b[49m\u001b[43m)\u001b[49m\n\u001b[0;32m      6\u001b[0m     quantnumero \u001b[38;5;241m=\u001b[39m quantnumero \u001b[38;5;241m+\u001b[39m \u001b[38;5;241m1\u001b[39m\n\u001b[0;32m      7\u001b[0m     soma \u001b[38;5;241m=\u001b[39m soma \u001b[38;5;241m+\u001b[39m numero \n",
      "\u001b[1;31mValueError\u001b[0m: invalid literal for int() with base 10: ''"
     ]
    }
   ],
   "source": [
    "soma = 0 \n",
    "quantnumero = 0 \n",
    "while True:\n",
    "    numero = int(input('Insira um número: '))\n",
    "    quantnumero = quantnumero + 1\n",
    "    soma = soma + numero \n",
    "    if quantnumero == 5:\n",
    "        print(soma)\n",
    "        \n",
    "        \n",
    "\n",
    "     "
   ]
  },
  {
   "cell_type": "code",
   "execution_count": null,
   "metadata": {},
   "outputs": [],
   "source": []
  }
 ],
 "metadata": {
  "kernelspec": {
   "display_name": "Python 3",
   "language": "python",
   "name": "python3"
  },
  "language_info": {
   "codemirror_mode": {
    "name": "ipython",
    "version": 3
   },
   "file_extension": ".py",
   "mimetype": "text/x-python",
   "name": "python",
   "nbconvert_exporter": "python",
   "pygments_lexer": "ipython3",
   "version": "3.12.2"
  }
 },
 "nbformat": 4,
 "nbformat_minor": 2
}
