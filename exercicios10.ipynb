{
 "cells": [
  {
   "cell_type": "markdown",
   "metadata": {},
   "source": [
    "1. Escreva uma função que utilize uma variável global para contar o número de vezes que foi\n",
    "chamada. A função deve retornar o número atual de chamadas."
   ]
  },
  {
   "cell_type": "code",
   "execution_count": 41,
   "metadata": {},
   "outputs": [
    {
     "data": {
      "text/plain": [
       "3"
      ]
     },
     "execution_count": 41,
     "metadata": {},
     "output_type": "execute_result"
    }
   ],
   "source": [
    "quant_vez = 0\n",
    "def funcao_chamada():\n",
    "    global quant_vez\n",
    "    quant_vez += 1\n",
    "    return(quant_vez)\n",
    "funcao_chamada()\n",
    "funcao_chamada()\n",
    "funcao_chamada()"
   ]
  },
  {
   "cell_type": "markdown",
   "metadata": {},
   "source": [
    "2. Crie um algoritmo que receba em variável global o valor atual do dólar e do euro, crie uma\n",
    "função que receba o valor a ser convertido e imprima a conversão em dólar e em euro"
   ]
  },
  {
   "cell_type": "code",
   "execution_count": 81,
   "metadata": {},
   "outputs": [
    {
     "name": "stdout",
     "output_type": "stream",
     "text": [
      " A conversão em dolar é 389.86, a conversão em Euro é 366.30 \n"
     ]
    }
   ],
   "source": [
    "valor_dolar = 5.13\n",
    "valor_euro = 5.46\n",
    "def conversao(valor: float):\n",
    "    global valor_dolar \n",
    "    global valor_euro \n",
    "    valor_dolar = valor / valor_dolar\n",
    "    valor_euro = valor / valor_euro\n",
    "    print(f' A conversão em dolar é {valor_dolar:.2f}, a conversão em Euro é {valor_euro:.2f} ')\n",
    "conversao(2000)\n"
   ]
  },
  {
   "cell_type": "markdown",
   "metadata": {},
   "source": [
    "3. Escreva uma função que recebe um nome e o adicione a uma lista de nomes global. Em\n",
    "seguida, escreva outra função que remova um elemento dessa lista global recebendo o nome."
   ]
  },
  {
   "cell_type": "code",
   "execution_count": 88,
   "metadata": {},
   "outputs": [
    {
     "data": {
      "text/plain": [
       "['Arthur', 'Antonio', 'Paulo', 'Vinicius']"
      ]
     },
     "execution_count": 88,
     "metadata": {},
     "output_type": "execute_result"
    }
   ],
   "source": [
    "lista_nomes = ['Arthur', 'Antonio', 'Paulo', 'Marco']\n",
    "def recebe_nome(nome: str):\n",
    "    global lista_nomes\n",
    "    lista_nomes.append(nome)\n",
    "def remove_nome():\n",
    "    global lista_nomes\n",
    "    del lista_nomes[-2]\n",
    "    return(lista_nomes)\n",
    "recebe_nome('Vinicius')\n",
    "remove_nome()\n",
    "\n"
   ]
  },
  {
   "cell_type": "code",
   "execution_count": 92,
   "metadata": {},
   "outputs": [
    {
     "name": "stdout",
     "output_type": "stream",
     "text": [
      "['Vinicius']\n",
      "['Vinicius', 'Antonio']\n",
      "['Vinicius', 'Antonio', 'Paulo']\n",
      "['Vinicius', 'Antonio']\n"
     ]
    }
   ],
   "source": [
    "lista_nomes =[]\n",
    "def nomes(nome):\n",
    "    lista_nomes.append(nome)\n",
    "    print(lista_nomes)\n",
    "def remover(nome):\n",
    "    lista_nomes.remove(nome)\n",
    "    print(lista_nomes)\n",
    "\n",
    "nomes('Vinicius')    \n",
    "nomes('Antonio')    \n",
    "nomes('Paulo')    \n",
    "remover('Paulo')\n",
    "    \n"
   ]
  },
  {
   "cell_type": "markdown",
   "metadata": {},
   "source": [
    "4. Crie um caixa eletrônico: Crie uma variável global para armazenar o saldo, crie função para\n",
    "depositar e sacar, recebendo o valor como parâmetro, crie outra função para consultar o\n",
    "saldo. Crie um menu interativo com while para navegar entre as funções:\n",
    "[1] Depositar [4] Parar programa\n",
    "[2] Sacar\n",
    "[3] Consultar saldo"
   ]
  },
  {
   "cell_type": "code",
   "execution_count": 29,
   "metadata": {},
   "outputs": [
    {
     "data": {
      "text/plain": [
       "0"
      ]
     },
     "execution_count": 29,
     "metadata": {},
     "output_type": "execute_result"
    }
   ],
   "source": [
    "saldo = 0\n",
    "def banco(valor: float):\n",
    "    global saldo\n",
    "    direcao= input('O que deseja fazer: (Depositar ou Sacar) ').lower()\n",
    "    if direcao == 'depositar':\n",
    "        saldo = saldo + valor\n",
    "        print(f'O valor da conta é R${saldo}')\n",
    "    elif direcao == 'sacar':\n",
    "        saldo = saldo - valor\n",
    "        print(f'O valor da conta agora é: R$ {saldo}')\n",
    "        \n",
    "    return (saldo)\n",
    "banco(1000)\n",
    "\n",
    "\n",
    "        \n",
    "        \n",
    "\n",
    "\n",
    "\n",
    "\n",
    "\n"
   ]
  },
  {
   "cell_type": "code",
   "execution_count": 94,
   "metadata": {},
   "outputs": [
    {
     "name": "stdout",
     "output_type": "stream",
     "text": [
      "Você depositou 1000.6 em sua conta\n",
      "O valor do saldo é: R$ 16000.6\n"
     ]
    }
   ],
   "source": [
    "saldo = 15000\n",
    "def banco(valor: float):\n",
    "    global saldo\n",
    "    while True:\n",
    "        direcao= input('O que deseja fazer: (Depositar ou Sacar) ').lower()\n",
    "        if direcao == 'depositar' or direcao == 'depositar ':\n",
    "            saldo = saldo + valor\n",
    "            print(f'Você depositou {valor} em sua conta')\n",
    "            break\n",
    "        elif direcao == 'sacar' or direcao == 'sacar ':\n",
    "            saldo = saldo - valor\n",
    "            print(f'Você sacou {valor} de sua conta')\n",
    "            break\n",
    "def consulta_saldo():\n",
    "    global saldo \n",
    "    direcao = input('Deseja consultar o saldo: [S/N]').lower()\n",
    "    while True:\n",
    "        if direcao == 's' or direcao == 'sim' or direcao == 'sim ':\n",
    "            print(f'O valor do saldo é: R$ {saldo}')\n",
    "            break\n",
    "        \n",
    "   \n",
    "banco(1000.6)\n",
    "consulta_saldo()"
   ]
  },
  {
   "cell_type": "code",
   "execution_count": 112,
   "metadata": {},
   "outputs": [
    {
     "name": "stdout",
     "output_type": "stream",
     "text": [
      "Menu\n",
      "[1] Depositar\n",
      "[2] Sacar\n",
      "[3] Consultar\n",
      "[4] Sair\n"
     ]
    }
   ],
   "source": [
    "saldo = 0\n",
    "def depositar(valor):\n",
    "    global saldo\n",
    "    saldo = saldo + valor \n",
    "def sacar(valor):\n",
    "    global saldo \n",
    "    saldo = saldo - valor \n",
    "def consulta_saldo():\n",
    "    print(f'Seu saldo R$ {saldo:.2f}')\n",
    "print('Menu')\n",
    "print('[1] Depositar')\n",
    "print('[2] Sacar')\n",
    "print('[3] Consultar')\n",
    "print('[4] Sair')\n",
    "while True:\n",
    "    opcao = input('Digite a opção do Menu')\n",
    "    if opcao == '1' :\n",
    "        valor = float (input('Insira o valor para depositar'))\n",
    "        depositar(valor)\n",
    "    if opcao == '2' :\n",
    "        valor = float (input('Insira o valor para sacar'))\n",
    "        sacar(valor)\n",
    "    if opcao == '3' :\n",
    "        consulta_saldo()\n",
    "    else:\n",
    "         break\n"
   ]
  },
  {
   "cell_type": "code",
   "execution_count": 120,
   "metadata": {},
   "outputs": [
    {
     "name": "stdout",
     "output_type": "stream",
     "text": [
      "####################\n",
      "####################\n",
      "####################\n",
      "####################\n",
      "####################\n"
     ]
    }
   ],
   "source": [
    "caractere_especial = input('Insira um caractere especial')\n",
    "def retangulo(altura, largura: int):\n",
    "    global caractere_especial\n",
    "    quantlinha = 0 \n",
    "    while quantlinha < altura:\n",
    "        print(caractere_especial * largura)\n",
    "        quantlinha +=1\n",
    "retangulo(5, 20)"
   ]
  }
 ],
 "metadata": {
  "kernelspec": {
   "display_name": "Python 3",
   "language": "python",
   "name": "python3"
  },
  "language_info": {
   "codemirror_mode": {
    "name": "ipython",
    "version": 3
   },
   "file_extension": ".py",
   "mimetype": "text/x-python",
   "name": "python",
   "nbconvert_exporter": "python",
   "pygments_lexer": "ipython3",
   "version": "3.12.2"
  }
 },
 "nbformat": 4,
 "nbformat_minor": 2
}
