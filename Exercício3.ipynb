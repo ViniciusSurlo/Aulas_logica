{
 "cells": [
  {
   "cell_type": "markdown",
   "metadata": {},
   "source": [
    " 1. Pede ao usuário para digitar um número de 1 a 7 e imprime o dia da semana correspondente."
   ]
  },
  {
   "cell_type": "code",
   "execution_count": 8,
   "metadata": {},
   "outputs": [
    {
     "name": "stdout",
     "output_type": "stream",
     "text": [
      "Quarta-feira\n"
     ]
    }
   ],
   "source": [
    "numero_dia= int(input('insira um número de 1 a 7')) \n",
    "\n",
    "match numero_dia:\n",
    "    case 1:\n",
    "        print('Segunda-feira')\n",
    "    case 2:\n",
    "        print('Terça-feira')\n",
    "    case 3:\n",
    "        print('Quarta-feira')\n",
    "    case 4:\n",
    "        print('Quinta-feira')\n",
    "    case 5:\n",
    "        print('Sexta-feira')\n",
    "    case 6:\n",
    "        print('Sabado')\n",
    "    case 7:\n",
    "        print('domingo')"
   ]
  },
  {
   "cell_type": "markdown",
   "metadata": {},
   "source": [
    "2. Pede ao usuário o ano atual e o ano de nascimento e verifique em qual faixa etária ele\n",
    "pertence considerando (abaixo de 10 é criança, de 11 a 17 adolescente, de 18 a 59 adulto,\n",
    "acima de 60 idoso)"
   ]
  },
  {
   "cell_type": "code",
   "execution_count": 15,
   "metadata": {},
   "outputs": [
    {
     "name": "stdout",
     "output_type": "stream",
     "text": [
      "Você é adulto\n"
     ]
    }
   ],
   "source": [
    "ano_atual= int(input('insira o Ano atual:')) \n",
    "\n",
    "ano_nascimento= int (input('insira o ano em que você nasceu:')) \n",
    "\n",
    "idade= ano_atual-ano_nascimento \n",
    "\n",
    "if idade<10: \n",
    "\n",
    "  print('Você é criança') \n",
    "\n",
    "elif idade>10 and idade<18: \n",
    "\n",
    "  print('Você é adolescente') \n",
    "\n",
    "elif idade>=18 and idade<59: \n",
    "\n",
    "  print('Você é adulto') \n",
    "\n",
    "else: \n",
    "\n",
    "  print(f'Você é idoso') "
   ]
  },
  {
   "cell_type": "markdown",
   "metadata": {},
   "source": [
    "3. Pede ao usuário para digitar o nome de um mês e imprime o número de dias naquele mês."
   ]
  },
  {
   "cell_type": "code",
   "execution_count": 17,
   "metadata": {},
   "outputs": [
    {
     "name": "stdout",
     "output_type": "stream",
     "text": [
      "31\n"
     ]
    }
   ],
   "source": [
    "mes= (input('insira o nome do mês:')) \n",
    "if mes.lower== 'janeiro': \n",
    "  print(31) \n",
    "elif mes== ('fevereiro'): \n",
    "  print(28) \n",
    "elif mes== ('março'): \n",
    "  print(31) \n",
    "elif mes==('abril'): \n",
    "  print(30) \n",
    "elif mes==('maio'): \n",
    "  print(31) \n",
    "elif mes==('junho'): \n",
    "  print(31) \n",
    "elif mes==('julho'): \n",
    "  print(30) \n",
    "elif mes==('agosto'): \n",
    "  print(31) \n",
    "elif mes==('setembro'): \n",
    "  print(30) \n",
    "elif mes==('outubro'): \n",
    "  print(31) \n",
    "elif mes==('novembro'): \n",
    "  print(30) \n",
    "else: \n",
    "  print('31') \n",
    "\n",
    "    "
   ]
  },
  {
   "cell_type": "markdown",
   "metadata": {},
   "source": [
    "4. Pede ao usuário para digitar 2 notas e calcule sua média, e considere a média acima de 7\n",
    "aprovado, entre 5 e 7, em recuperação, abaixo de 5 reprovado."
   ]
  },
  {
   "cell_type": "code",
   "execution_count": 1,
   "metadata": {},
   "outputs": [
    {
     "name": "stdout",
     "output_type": "stream",
     "text": [
      "sua media é 6.0, você está de recuperação\n"
     ]
    }
   ],
   "source": [
    "nota_1= float (input('insira a primeira nota:'))\n",
    "nota_2= float (input('insira a segunda nota:'))\n",
    "media= (nota_1+nota_2) / 2\n",
    "if media > 7:\n",
    "    print(f' sua media é {media}, você está aprovado ')\n",
    "elif media>5 and media<=7:\n",
    "    print(F'sua media é {media}, você está de recuperação')\n",
    "else:\n",
    "    print(f'sua media é {media}, você está reprovado')"
   ]
  },
  {
   "cell_type": "markdown",
   "metadata": {},
   "source": [
    "5. Pede o salário do funcionário, e calcular o aumento que ele terá, considerando se ganhar até\n",
    "2000, reajuste de 12%, até 4000, reajuste de 10%, acima de 4000 reajuste de 8%, exibir o\n",
    "novo salário"
   ]
  },
  {
   "cell_type": "code",
   "execution_count": 21,
   "metadata": {},
   "outputs": [
    {
     "name": "stdout",
     "output_type": "stream",
     "text": [
      "Seu salário era de: R$ 8000.0, seu aumento foi de: R$ 640.0, com isso seu novo saláio é: R$ 8640.0\n"
     ]
    }
   ],
   "source": [
    "salario= float(input('insira o valor do seu salário R$:'))\n",
    "if salario<=2000:\n",
    "    print(f'Seu salário é: R$ {salario}, seu aumento é de: R$ {salario*12/100}, com isso o seu novo salário é: R$ {salario*12/100+salario} ')\n",
    "elif salario <=4000:\n",
    "    print(f'o seu salário era de: R$ {salario}, seu aumento é de: R${salario*10/100}, com isso seu novo salário é de: R$ {salario*10/100+salario}')\n",
    "else:\n",
    "    print(f'Seu salário era de: R$ {salario}, seu aumento foi de: R$ {salario*8/100}, com isso seu novo saláio é: R$ {salario*8/100+salario}')"
   ]
  },
  {
   "cell_type": "markdown",
   "metadata": {},
   "source": [
    "DESAFIOS"
   ]
  },
  {
   "cell_type": "markdown",
   "metadata": {},
   "source": [
    "Desafio 01- Peça o salário do funcionário e calcule o valor do IRPF e INSS do funcionário e quanto ele irá receber no final do mês, considerando a seguinte tabela:"
   ]
  },
  {
   "cell_type": "code",
   "execution_count": 44,
   "metadata": {},
   "outputs": [
    {
     "name": "stdout",
     "output_type": "stream",
     "text": [
      "Você receberá 3625.0\n"
     ]
    }
   ],
   "source": [
    "#IRPF\n",
    "salario= float (input('insira o valor do seu salário R$:'))\n",
    "if salario <= 2259.20:\n",
    "    print(f'Você receberá {salario}')\n",
    "elif salario> 2259.20 and salario<= 2826.65:\n",
    "    print(f'Você receberá {salario-(salario*7.5/100)}')\n",
    "elif salario >2259.20 and salario>2826.65 and salario<=3751.05:\n",
    "    print(f'Você receberá {salario-(salario*15/100)}')\n",
    "elif salario >2259.20 and salario>2826.65 and salario>3751.05 and salario<=4664.68:\n",
    "    print(f'Você receberá {salario-(salario*22.5/100)}')\n",
    "elif salario >2259.20 and salario>2826.65 and salario>3751.05 and salario>4664.68:\n",
    "    print(f'Você receberá {salario-(salario*27.5/100)}')\n",
    "\n",
    "\n",
    "\n",
    "\n",
    "        \n",
    "        \n"
   ]
  },
  {
   "cell_type": "code",
   "execution_count": null,
   "metadata": {},
   "outputs": [],
   "source": [
    "#INSS\n",
    "salario= float (input('insira o valor do seu salário R$:'))\n",
    "if salario<=1412.00:\n",
    "    print(f'você receberá {salario- (salario*7.5/100)}')\n",
    "if salario>1412.00 > \n",
    "\n",
    "\n"
   ]
  }
 ],
 "metadata": {
  "kernelspec": {
   "display_name": "Python 3",
   "language": "python",
   "name": "python3"
  },
  "language_info": {
   "codemirror_mode": {
    "name": "ipython",
    "version": 3
   },
   "file_extension": ".py",
   "mimetype": "text/x-python",
   "name": "python",
   "nbconvert_exporter": "python",
   "pygments_lexer": "ipython3",
   "version": "3.12.2"
  }
 },
 "nbformat": 4,
 "nbformat_minor": 2
}
