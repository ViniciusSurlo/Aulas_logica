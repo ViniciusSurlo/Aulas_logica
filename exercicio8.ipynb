{
 "cells": [
  {
   "cell_type": "markdown",
   "metadata": {},
   "source": [
    ">1. Crie uma lista com os números de 1 a 10 e imprima cada número "
   ]
  },
  {
   "cell_type": "code",
   "execution_count": 1,
   "metadata": {},
   "outputs": [
    {
     "name": "stdout",
     "output_type": "stream",
     "text": [
      "1\n",
      "2\n",
      "3\n",
      "4\n",
      "5\n",
      "6\n",
      "7\n",
      "8\n",
      "9\n",
      "10\n"
     ]
    }
   ],
   "source": [
    "listanumeros = [1, 2, 3, 4, 5, 6, 7, 8, 9, 10]\n",
    "for numero in listanumeros:\n",
    "    print(numero)"
   ]
  },
  {
   "cell_type": "markdown",
   "metadata": {},
   "source": [
    "Crie uma lista com os nomes de três amigos e imprima cada nome."
   ]
  },
  {
   "cell_type": "code",
   "execution_count": 3,
   "metadata": {},
   "outputs": [
    {
     "name": "stdout",
     "output_type": "stream",
     "text": [
      "Ricardo\n",
      "Matheus\n",
      "Antonio\n"
     ]
    }
   ],
   "source": [
    "listanomes = ['Ricardo', 'Matheus', 'Antonio']\n",
    "for nome in listanomes:\n",
    "    print(nome)"
   ]
  },
  {
   "cell_type": "markdown",
   "metadata": {},
   "source": [
    "Crie uma lista com os meses do ano e imprima apenas os meses que começam com \"J\"."
   ]
  },
  {
   "cell_type": "code",
   "execution_count": 4,
   "metadata": {},
   "outputs": [
    {
     "name": "stdout",
     "output_type": "stream",
     "text": [
      "Janeiro\n",
      "Junho\n",
      "Julho\n"
     ]
    }
   ],
   "source": [
    "listameses = ['Janeiro', 'Fevereiro', 'Março', 'Abril', 'Maio', 'Junho', 'Julho', 'Agosto', 'Setembro', 'Outubro', 'Novembro', 'Dezembro']\n",
    "for meses in listameses:\n",
    "    if meses[0] == 'J':\n",
    "        print(meses)"
   ]
  },
  {
   "cell_type": "markdown",
   "metadata": {},
   "source": [
    "Crie uma lista com as palavras \"gato\", \"cachorro\", \"pássaro\" e \"peixe\", e imprima cada palavra\n",
    "em maiúsculas."
   ]
  },
  {
   "cell_type": "code",
   "execution_count": 123,
   "metadata": {},
   "outputs": [
    {
     "name": "stdout",
     "output_type": "stream",
     "text": [
      "Gato\n",
      "Cachorro\n",
      "Pássaro\n",
      "Peixe\n"
     ]
    }
   ],
   "source": [
    "listaanimais = ['Gato', 'Cachorro', 'Pássaro', 'Peixe']\n",
    "for animal in listaanimais:\n",
    "    print(animal.capitalize())"
   ]
  },
  {
   "cell_type": "markdown",
   "metadata": {},
   "source": [
    "Crie uma lista com 5 números aleatórios e exiba o nr e seu dobro desse."
   ]
  },
  {
   "cell_type": "code",
   "execution_count": 181,
   "metadata": {},
   "outputs": [
    {
     "name": "stdout",
     "output_type": "stream",
     "text": [
      "3198 seu dobro é: 6396\n",
      "3354 seu dobro é: 6708\n",
      "2619 seu dobro é: 5238\n",
      "3577 seu dobro é: 7154\n",
      "1619 seu dobro é: 3238\n"
     ]
    }
   ],
   "source": [
    "import random\n",
    "for x in range(5):\n",
    "    numero = random.randint(1, 8000)\n",
    "    print(f'{numero} seu dobro é: {numero * 2}')\n"
   ]
  },
  {
   "cell_type": "markdown",
   "metadata": {},
   "source": [
    "Crie uma lista com valores numéricos e encontre o maior e o menor elemento dessa lista."
   ]
  },
  {
   "cell_type": "code",
   "execution_count": 84,
   "metadata": {},
   "outputs": [
    {
     "name": "stdout",
     "output_type": "stream",
     "text": [
      "3 menor valor, 8 é o maior valor\n"
     ]
    }
   ],
   "source": [
    "listavalores = [3, 4, 5, 8]\n",
    "listavalores.reverse\n",
    "print(f'{listavalores[0]} menor valor, {listavalores[3]} é o maior valor')\n"
   ]
  },
  {
   "cell_type": "code",
   "execution_count": 199,
   "metadata": {},
   "outputs": [
    {
     "name": "stdout",
     "output_type": "stream",
     "text": [
      " O menor número é 2 O maior número é 454\n",
      "454\n",
      "2\n"
     ]
    }
   ],
   "source": [
    "listanrs = [12, 3, 54, 45, 454, 2] \n",
    "menorNr = 10000000\n",
    "maior =  0 \n",
    "for numero in listanrs : \n",
    "    if numero > maior:\n",
    "        maior = numero\n",
    "    elif numero < menorNr:\n",
    "        menorNr = numero\n",
    "print(f' O menor número é {menorNr} O maior número é {maior}')\n",
    "# Utilizando as funções prontas do python \n",
    "print(max(listanrs))\n",
    "print(min(listanrs))\n"
   ]
  },
  {
   "cell_type": "code",
   "execution_count": null,
   "metadata": {},
   "outputs": [],
   "source": [
    "import random\n",
    "menornr = 100000\n",
    "maiorNr = 0\n",
    "for x in range (6)\n"
   ]
  },
  {
   "cell_type": "markdown",
   "metadata": {},
   "source": [
    "Receba uma palavra do usuário e calcule quantas vogais há nesta palavra."
   ]
  },
  {
   "cell_type": "code",
   "execution_count": 86,
   "metadata": {},
   "outputs": [],
   "source": [
    "palavrausuario = input('Insira uma palavra: ')\n",
    "vogais = ['a', 'e', 'i', 'o', 'u']\n",
    "for letra in palavrausuario:\n",
    "    if palavrausuario in vogais:\n",
    "        print(' é uma vogal')"
   ]
  },
  {
   "cell_type": "code",
   "execution_count": 88,
   "metadata": {},
   "outputs": [
    {
     "name": "stdout",
     "output_type": "stream",
     "text": [
      " A palavra que você escreveu foi: palavra , sua quantidade de vogais é: 3\n"
     ]
    }
   ],
   "source": [
    "palavrausuario = input('Insira um número: ')\n",
    "vogais = ['a', 'e', 'i', 'o', 'u']\n",
    "quantvogais= 0 \n",
    "for letra in palavrausuario:\n",
    "    if letra in vogais:\n",
    "        quantvogais += 1\n",
    "print(f' A palavra que você escreveu foi: {palavrausuario}, sua quantidade de vogais é: {quantvogais}')\n",
    "\n"
   ]
  },
  {
   "cell_type": "markdown",
   "metadata": {},
   "source": [
    "Nessa string ‘Gol;Corsa;Palio;Monza;Fusca;’, faça a separação desses itens para uma lista e\n",
    "exiba o item e a posição que ele está"
   ]
  },
  {
   "cell_type": "code",
   "execution_count": 51,
   "metadata": {},
   "outputs": [
    {
     "name": "stdout",
     "output_type": "stream",
     "text": [
      "1º Gol\n",
      "2º Corsa\n",
      "3º Palio\n",
      "4º Monza\n",
      "5º Fusca\n"
     ]
    }
   ],
   "source": [
    "carros = 'Gol Corsa Palio Monza Fusca'\n",
    "listacarros= carros.split(' ')\n",
    "for pos,carro in enumerate(listacarros):\n",
    "    print(f'{pos + 1}º {carro}')"
   ]
  },
  {
   "cell_type": "markdown",
   "metadata": {},
   "source": [
    "9. Faça um programa que vai ler valores numéricos e guardá-los em uma lista, caso o\n",
    "usuário digite 0, o programa mostre:\n",
    "\n",
    "A – Quantos números foram digitados.\n",
    "\n",
    "B – Mostre a lista em ordem crescente.\n",
    "\n",
    "C – Mostre a lista em ordem decrescente.\n",
    "\n",
    "D – O maior valor\n",
    "\n",
    "E – O menor valor\n",
    "\n",
    "D – Se o valor 5 foi digitado na lista ou não."
   ]
  },
  {
   "cell_type": "code",
   "execution_count": 101,
   "metadata": {},
   "outputs": [
    {
     "name": "stdout",
     "output_type": "stream",
     "text": [
      "A quantidade itens na lista é: 6\n",
      "Lista na forma crescente: [4, 5, 5, 6, 7, 8] \n",
      "Lista na forma decrescente [8, 7, 6, 5, 5, 4]\n",
      "O maior valor é 8, O menor valor é 4\n"
     ]
    }
   ],
   "source": [
    "listanumerica = []\n",
    "numero5 = [5]\n",
    "quantnumero5 = 0\n",
    "while True:\n",
    "    numero = int(input('Insira um número: '))\n",
    "    if numero == 0:\n",
    "        break\n",
    "    listanumerica.append(numero)\n",
    "    if listanumerica in numero5:\n",
    "        quantnumero5 +=1 \n",
    "print(f'A quantidade itens na lista é: {len(listanumerica)}')\n",
    "listanumerica.sort()\n",
    "print(f'Lista na forma crescente: {listanumerica} ')\n",
    "listanumerica.reverse()\n",
    "print(f'Lista na forma decrescente {listanumerica}')\n",
    "print(f'O maior valor é {listanumerica[0]}, O menor valor é {listanumerica[-1]}')\n",
    "if quantnumero5 >= 1:\n",
    "    print(' O valor 5 foi digitado')\n",
    "\n"
   ]
  },
  {
   "cell_type": "code",
   "execution_count": 201,
   "metadata": {},
   "outputs": [
    {
     "name": "stdout",
     "output_type": "stream",
     "text": [
      "3\n",
      "4\n",
      "6\n"
     ]
    }
   ],
   "source": [
    "vari1 =3\n",
    "viriavel2 = 4\n",
    "viriavel3 = 6\n",
    "listadevariaveis = [vari1, viriavel2, viriavel3]\n",
    "for numero in listadevariaveis:\n",
    "    print(numero)"
   ]
  }
 ],
 "metadata": {
  "kernelspec": {
   "display_name": "Python 3",
   "language": "python",
   "name": "python3"
  },
  "language_info": {
   "codemirror_mode": {
    "name": "ipython",
    "version": 3
   },
   "file_extension": ".py",
   "mimetype": "text/x-python",
   "name": "python",
   "nbconvert_exporter": "python",
   "pygments_lexer": "ipython3",
   "version": "3.12.2"
  }
 },
 "nbformat": 4,
 "nbformat_minor": 2
}
