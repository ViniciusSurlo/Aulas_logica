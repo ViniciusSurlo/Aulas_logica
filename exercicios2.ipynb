{
 "cells": [
  {
   "cell_type": "markdown",
   "metadata": {},
   "source": [
    "1. Leia 2 notas de um aluno, calcule a média e imprima aprovado ou reprovado (para ser aprovado a média deve ser no mínimo 7)"
   ]
  },
  {
   "cell_type": "code",
   "execution_count": null,
   "metadata": {},
   "outputs": [],
   "source": [
    "nota1= float(input('insira a primeira nota:'))\n",
    "nota2= float(input('insira a segunda nota:'))\n",
    "media= (nota1+nota2)/2\n",
    "if media >=7:\n",
    "    print('aprovado')\n",
    "else:\n",
    "    print('reprovado')"
   ]
  },
  {
   "cell_type": "markdown",
   "metadata": {},
   "source": [
    "2. Peça dois números ao usuário e mostre qual o maior ou menor "
   ]
  },
  {
   "cell_type": "code",
   "execution_count": null,
   "metadata": {},
   "outputs": [],
   "source": [
    "numero1= float(input('insira o primeiro número:'))\n",
    "numero2= float(input('insira o segundo número:'))\n",
    "if numero1>numero2:\n",
    "    print(f'primeiro número: {numero1}, é maior que o segundo')\n",
    "\n",
    "else: \n",
    "    print(f'segundo número: {numero2}, é maior que o primeiro')"
   ]
  },
  {
   "cell_type": "markdown",
   "metadata": {},
   "source": [
    "3. Receba um inteiro e diga se é par ou ímpar."
   ]
  },
  {
   "cell_type": "code",
   "execution_count": 23,
   "metadata": {},
   "outputs": [
    {
     "name": "stdout",
     "output_type": "stream",
     "text": [
      "o número é impar\n"
     ]
    }
   ],
   "source": [
    "numero= int(input('insira um número:'))\n",
    "if numero%2==0:\n",
    "    print('o número é par')\n",
    "\n",
    "else:\n",
    "    print('o número é impar')"
   ]
  },
  {
   "cell_type": "markdown",
   "metadata": {},
   "source": [
    "4. Receba um número inteiro e diga se é positivo ou negativo"
   ]
  },
  {
   "cell_type": "code",
   "execution_count": null,
   "metadata": {},
   "outputs": [],
   "source": [
    "numero= int(input('insira um número:'))\n",
    "if numero>0:\n",
    "    print(\"o número é positivo\")\n",
    "\n",
    "else:\n",
    "    print('número é negativo')"
   ]
  },
  {
   "cell_type": "markdown",
   "metadata": {},
   "source": [
    "5. Pergunte o ano de nascimento de uma pessoa e diga se ele é maior de idade"
   ]
  },
  {
   "cell_type": "code",
   "execution_count": null,
   "metadata": {},
   "outputs": [],
   "source": [
    "ano_nascimento= int(input('insira o ano em que você nasceu:'))\n",
    "if ano_nascimento< 2006:\n",
    "    print('você é maior de idade')\n",
    "\n",
    "else:\n",
    "    print('você é menor de idade')"
   ]
  },
  {
   "cell_type": "markdown",
   "metadata": {},
   "source": [
    "6. Ler dois números inteiros e informar se estes são iguais ou diferentes."
   ]
  },
  {
   "cell_type": "code",
   "execution_count": null,
   "metadata": {},
   "outputs": [],
   "source": [
    "numero1= int(input('insira o primeiro número:'))\n",
    "numero2= int(input('insira o segundo número:'))\n",
    "if numero1==numero2:\n",
    "    print('primeiro número e o segundo número são iguais')\n",
    "\n",
    "else:\n",
    "    print('O primeiro e o segundo número são diferentes')"
   ]
  },
  {
   "cell_type": "markdown",
   "metadata": {},
   "source": [
    "7. Receba a velocidade do carro e exiba que foi multado se for maior que 80km/h, o valor da\n",
    "multa será R$ 7,00 por cada km excedido, exibir o valor da multa"
   ]
  },
  {
   "cell_type": "code",
   "execution_count": 43,
   "metadata": {},
   "outputs": [
    {
     "name": "stdout",
     "output_type": "stream",
     "text": [
      "você será multado, o valor da multa será 70.0\n"
     ]
    }
   ],
   "source": [
    "velocidade_carro= float(input('insira a velocidade do carro:'))\n",
    "if velocidade_carro>80:\n",
    "    print(f\"você será multado, o valor da multa será {(velocidade_carro-80)*7.00}\")\n",
    "\n",
    "else:\n",
    "    print('você não será multado')"
   ]
  },
  {
   "cell_type": "markdown",
   "metadata": {},
   "source": [
    "Crie um programa que receba três números e os imprima em ordem crescente."
   ]
  },
  {
   "cell_type": "code",
   "execution_count": null,
   "metadata": {},
   "outputs": [],
   "source": [
    "numero1= float(input('insira um número:'))\n",
    "numero2= float(input('insira um número:'))\n",
    "numero3= float(input('insira um número:'))\n",
    " if numero1>numero2>numero3:\n",
    "print(numero1, numero2, numero3)"
   ]
  },
  {
   "cell_type": "markdown",
   "metadata": {},
   "source": [
    "Escreva um programa que calcule o preço a ser pago por um produto considerando um desconto de 10% se o valor da compra for maior que R$ 100,00."
   ]
  },
  {
   "cell_type": "code",
   "execution_count": 12,
   "metadata": {},
   "outputs": [
    {
     "name": "stdout",
     "output_type": "stream",
     "text": [
      "O valor a ser pago é: R$ 900.0 \n"
     ]
    }
   ],
   "source": [
    "preco= float(input('insira o valor da compra'))\n",
    "if preco>100:\n",
    "    novo_valor= preco/100 *10\n",
    "    print(f'O valor a ser pago é: R$ {preco-novo_valor} ')\n",
    "\n",
    "else:\n",
    "    print(f'o valor a ser pago é {preco}')\n",
    "    "
   ]
  },
  {
   "cell_type": "markdown",
   "metadata": {},
   "source": [
    "Crie um programa que receba 2 valores e troque os valores das variáveis entre si, ex.: var a=1 e b=2 , exibir \"O valor da variável a=2 e b=1\""
   ]
  },
  {
   "cell_type": "code",
   "execution_count": 18,
   "metadata": {},
   "outputs": [
    {
     "name": "stdout",
     "output_type": "stream",
     "text": [
      "5.0 10.0\n"
     ]
    }
   ],
   "source": [
    "variavel1= float(input('insira variavel'))\n",
    "variavel2= float(input('insira variavel'))\n",
    "variavel_1= (variavel1-variavel1)+variavel2   \n",
    "variavel2= (variavel2-variavel2)+variavel1\n",
    "print(variavel_1, variavel2) "
   ]
  },
  {
   "cell_type": "markdown",
   "metadata": {},
   "source": [
    "Refaça o exercício anterior, sem utilizar variáveis adicionais"
   ]
  },
  {
   "cell_type": "code",
   "execution_count": 25,
   "metadata": {},
   "outputs": [
    {
     "data": {
      "text/plain": [
       "False"
      ]
     },
     "execution_count": 25,
     "metadata": {},
     "output_type": "execute_result"
    }
   ],
   "source": [
    "def variavel():\n",
    "    variavel1=float(input('insira a variavel:'))\n",
    "    variavel2=float(input('insira a variavel:'))\n",
    "    variavel1\n",
    "    return variavel1==variavel2    \n",
    "variavel"
   ]
  },
  {
   "cell_type": "markdown",
   "metadata": {},
   "source": [
    "Desenvolva um programa que receba o valor de 3 lados de um triângulo e verifique se pode formar um triângulo.v"
   ]
  },
  {
   "cell_type": "code",
   "execution_count": 39,
   "metadata": {},
   "outputs": [
    {
     "name": "stdout",
     "output_type": "stream",
     "text": [
      "é um triangulo\n",
      "é um triangulo\n"
     ]
    }
   ],
   "source": [
    "primeiro_valor= float(input('insira o valor de um lado:'))\n",
    "segundo_valor= float(input('insira o valor de um lado:'))\n",
    "terceiro_valor= float(input('insira o valor de um lado:'))\n",
    "if (primeiro_valor+segundo_valor)>terceiro_valor:\n",
    "    print('é um triangulo')\n",
    "if (primeiro_valor+terceiro_valor)>segundo_valor:\n",
    "    print('é um triangulo')\n",
    "if (segundo_valor+terceiro_valor)>primeiro_valor:\n",
    "    print('é um triangulo')\n",
    "else:\n",
    "    print('não é um triangulo')"
   ]
  }
 ],
 "metadata": {
  "kernelspec": {
   "display_name": "Python 3",
   "language": "python",
   "name": "python3"
  },
  "language_info": {
   "codemirror_mode": {
    "name": "ipython",
    "version": 3
   },
   "file_extension": ".py",
   "mimetype": "text/x-python",
   "name": "python",
   "nbconvert_exporter": "python",
   "pygments_lexer": "ipython3",
   "version": "3.12.2"
  }
 },
 "nbformat": 4,
 "nbformat_minor": 2
}
