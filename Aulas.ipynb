{
 "cells": [
  {
   "cell_type": "markdown",
   "metadata": {},
   "source": [
    "Aula 15/02/2024 -\n",
    " Comandos de saída (print) / \n",
    " tipos de dados (string, int, float, bool) / \n",
    " Operações aritméticas ( + - * / % **)"
   ]
  },
  {
   "cell_type": "code",
   "execution_count": 51,
   "metadata": {},
   "outputs": [
    {
     "name": "stdout",
     "output_type": "stream",
     "text": [
      "olá, mundo!!!\n",
      "meu primeiro código em python. Usando aspas duplas\n",
      "meu primeiro código em python. Usando aspas simples\n",
      "para duplicar uma linha pressionei shift + alt + seta baixo\n",
      "123\n",
      "70.5\n",
      "True\n",
      "sesi\n",
      "14\n",
      "86\n",
      "string 10 70.5 False\n",
      "60\n",
      "54\n",
      "102789552872262\n",
      "711.0\n",
      "1\n",
      "27\n",
      "7.0\n",
      "30\n"
     ]
    }
   ],
   "source": [
    "#este é o meu primeiro código\n",
    "# A função print serve para exibir na tela alguma mensagem\n",
    "# A função # serve tornar o conteúdo não executavel\n",
    "print('olá, mundo!!!')\n",
    "\n",
    "print(\"meu primeiro código em python. Usando aspas duplas\")\n",
    "print('meu primeiro código em python. Usando aspas simples')\n",
    "print('para duplicar uma linha pressionei shift + alt + seta baixo')\n",
    "print(123) #estou exibindo um número inteiro, por isso, não preciso da \"\"\n",
    "print(70.5) #número float \n",
    "print(True) #Campo lógico (verdadeiro ou falso) (True or False)\n",
    "print('sesi') #Tipo string \n",
    "#somando 2 números inteiros (o sinal de + para 2 números realiza a SOMA)\n",
    "print(8+6) \n",
    "# Porém se forem 2 strings (o sinal de + realiza a CONCATENAÇÃO)\n",
    "print(\"8\"+\"6\")\n",
    "\n",
    "#Posso imprimir várias informações ao mesmo tempo separando-as por, \n",
    "\n",
    "print('string', 10, 70.5, False)\n",
    "\n",
    "print(10+50) # + é o operador de SOMA (número inteiro ou decimal)\n",
    "print( 67 - 13) # + é o operador de SUBTRAÇÃO (número inteiro ou decimal)\n",
    "print(424343 * 242232234) # * é o operador de MULTIPLICAÇÃO\n",
    "print(2133 / 3) # / é o operador de DIVISÃO \n",
    "print( 31% 2) # % é o operador do resto da divisão (MÓDULO)\n",
    "print( 3**3) # ** é o operador de exponenciação 3³\n",
    "\n",
    "print((8 + 6) / 2) # O Parênteses define a maior ordem de precedência \n",
    "print(5*6)\n"
   ]
  },
  {
   "cell_type": "markdown",
   "metadata": {},
   "source": [
    "Aula 22/02/2024 - Comandos de entrada (input) / Variáveis / Pseudocódigo"
   ]
  },
  {
   "cell_type": "code",
   "execution_count": 52,
   "metadata": {},
   "outputs": [
    {
     "name": "stdout",
     "output_type": "stream",
     "text": [
      "curso\n",
      "desenvolvimento de sistemas\n",
      "curso desenvolvimento de sistemas\n",
      "15\n",
      "olá Vinícius você tem 15 anos, hoje está fazendo 23.5ºC\n",
      "olá Vinícius, você tem 15 anos, hoje está fazendo 23.5ºCºC\n",
      "Seu nome é vini, você tem 16 e seu peso é 45.0\n",
      "vini 16 45.0\n",
      "<class 'str'> <class 'int'> <class 'float'>\n"
     ]
    }
   ],
   "source": [
    "#Declarando minha primeira variável\n",
    "#Lemos da seguinte forma:\n",
    "#Variável curso recebe(=) a string \"Desenvolvimento de sistemas\"\n",
    "#receba/armazene o texto \"desenvolvimento de sistemas\"\n",
    "curso = \"desenvolvimento de sistemas\" \n",
    "#Exiba o valor armazenado \n",
    "print(\"curso\")     # Para imprimir uma variável não se cola entre \" \"\n",
    "print(curso)       # Jeito correto de utilizar \n",
    "print(\"curso\", curso)\n",
    "\n",
    "#Criando e atribuindo uma variável \n",
    "idade = 15 \n",
    "print (idade) \n",
    "temperatura = \"23.5ºC\"  \n",
    "nome= \"Vinícius\" \n",
    "#exiba o valor dessas 3 variáveis \n",
    "print (\"olá\", nome, \"você tem\", idade, \"anos\" \",\" ,\"hoje está fazendo\", temperatura)       \n",
    "print(f\"olá {nome}, você tem {idade} anos, hoje está fazendo {temperatura}ºC\")\n",
    "\n",
    "#declarando variáveis lógicas, recebe apenas true or false \n",
    "chovendo= False\n",
    "dia= True\n",
    "\n",
    "# Nesta linha abaixo ocorrerá um erro pois não existe uma variável com o nome salario, então não consegue encontrar nada para exibir\n",
    "# Nameerror: name \"salario\" is not defined\n",
    "# Print(\"salario\", salario)\n",
    "\n",
    "# Declarando uma constante, diferentemente da variável que posso alterar o valor\n",
    "# Na constante não é permitido, declaramos com o nome todo em maiscula\n",
    "PI = 3.1415\n",
    "\n",
    "\n",
    "#Passo 1: Receber o nome da pessoa\n",
    "#no input sempre recebemos uma string \n",
    "nome= input('qual é o seu nome?')\n",
    "\n",
    "#passo 2: Receber a idade da pessoa \n",
    "#Posso converter essa string recebida do tipo inteiro \n",
    "idade=int (input('qual é a sua idade?'))\n",
    "\n",
    "#passo 3: Receber o peso da pessoa \n",
    "#Posso converter essa string recebida do tipo float \n",
    "peso=float (input('qual é a sua peso?'))\n",
    "\n",
    "#passo 4: Exibir o noe, a idade e o peso \n",
    "print (f'Seu nome é {nome}, você tem {idade} e seu peso é {peso}')\n",
    "print(nome, idade, peso)\n",
    "\n",
    "#Exibindo os tipo das variáveis \n",
    "#Tudo o que recebemos do input é do tipo string \n",
    "print(type(nome), type(idade), type(peso))\n",
    "\n",
    "\n",
    "\n",
    "\n",
    "\n"
   ]
  },
  {
   "cell_type": "markdown",
   "metadata": {},
   "source": [
    "23/02/24 - Operações com variáveis "
   ]
  },
  {
   "cell_type": "code",
   "execution_count": 53,
   "metadata": {},
   "outputs": [
    {
     "ename": "ValueError",
     "evalue": "could not convert string to float: 'q'",
     "output_type": "error",
     "traceback": [
      "\u001b[1;31m---------------------------------------------------------------------------\u001b[0m",
      "\u001b[1;31mValueError\u001b[0m                                Traceback (most recent call last)",
      "Cell \u001b[1;32mIn[53], line 2\u001b[0m\n\u001b[0;32m      1\u001b[0m \u001b[38;5;66;03m#Receber o primeiro número\u001b[39;00m\n\u001b[1;32m----> 2\u001b[0m numero1 \u001b[38;5;241m=\u001b[39m \u001b[38;5;28;43mfloat\u001b[39;49m\u001b[43m \u001b[49m\u001b[43m(\u001b[49m\u001b[38;5;28;43minput\u001b[39;49m\u001b[43m(\u001b[49m\u001b[38;5;124;43m'\u001b[39;49m\u001b[38;5;124;43mDigite o primeiro número:\u001b[39;49m\u001b[38;5;124;43m'\u001b[39;49m\u001b[43m)\u001b[49m\u001b[43m)\u001b[49m\n\u001b[0;32m      3\u001b[0m \u001b[38;5;66;03m#Receber o segundo número  \u001b[39;00m\n\u001b[0;32m      4\u001b[0m numero2 \u001b[38;5;241m=\u001b[39m \u001b[38;5;28mfloat\u001b[39m (\u001b[38;5;28minput\u001b[39m(\u001b[38;5;124m'\u001b[39m\u001b[38;5;124mDigite o segundo número:\u001b[39m\u001b[38;5;124m'\u001b[39m))\n",
      "\u001b[1;31mValueError\u001b[0m: could not convert string to float: 'q'"
     ]
    }
   ],
   "source": [
    "#Receber o primeiro número\n",
    "numero1 = float (input('Digite o primeiro número:'))\n",
    "#Receber o segundo número  \n",
    "numero2 = float (input('Digite o segundo número:'))\n",
    "numero3= float (input ('digite o terceiro número:'))\n",
    "#Soma o primeiro número + o segundo número\n",
    "soma = numero1 + numero2 + numero3\n",
    "#Exibir o resultado\n",
    "print(soma)\n",
    "print (type(soma))\n",
    "\n"
   ]
  },
  {
   "cell_type": "code",
   "execution_count": null,
   "metadata": {},
   "outputs": [
    {
     "name": "stdout",
     "output_type": "stream",
     "text": [
      "2.1651663741047564e+26 resultado \n"
     ]
    }
   ],
   "source": [
    "numero1= float (input('inserir primeiro número:'))\n",
    "numero2= float (input('inserir segundo número:'))\n",
    "numero3= float (input('inserir o terceiro número:'))\n",
    "numero4= float (input('inserir o quarto número:'))\n",
    "numero5= float (input('inserir o quinto número:'))\n",
    "numero6= float(input('inserir sexto número:'))\n",
    "frase= str(input('escreva uma frase'))\n",
    "soma= numero1 * numero2 * numero3 * numero4 * numero5 * numero6\n",
    "print (soma, frase)\n",
    "\n",
    "valor= 1200\n",
    "desconto= 200\n",
    "print (valor- desconto)"
   ]
  },
  {
   "cell_type": "code",
   "execution_count": null,
   "metadata": {},
   "outputs": [
    {
     "name": "stdout",
     "output_type": "stream",
     "text": [
      "Você obteve R$ 200.0 de desconto, e pagou R$ 1000.0\n",
      "1000.0\n"
     ]
    }
   ],
   "source": [
    "valor= float (input('digite o valor:'))\n",
    "desconto= float(input('digite o valor de desconto:'))\n",
    "valor= (valor - desconto)\n",
    "print(f'Você obteve R$ {desconto} de desconto, e pagou R$ {valor}')\n",
    "print(valor)"
   ]
  },
  {
   "cell_type": "code",
   "execution_count": null,
   "metadata": {},
   "outputs": [
    {
     "name": "stdout",
     "output_type": "stream",
     "text": [
      "2.0\n",
      "4.0\n",
      "120.0\n",
      "O valor final é 120.0\n"
     ]
    }
   ],
   "source": [
    "numero= 4/2\n",
    "print (numero)\n",
    "numero=numero**2\n",
    "print(numero)\n",
    "numero= numero * (50-20)\n",
    "print(numero)\n",
    "print(f'O valor final é {numero}')"
   ]
  },
  {
   "cell_type": "code",
   "execution_count": null,
   "metadata": {},
   "outputs": [
    {
     "name": "stdout",
     "output_type": "stream",
     "text": [
      "12000\n"
     ]
    }
   ],
   "source": [
    "horaspordia=8\n",
    "valor_hora=100\n",
    "dia_projeto=15\n",
    "valortotal= (horaspordia*dia_projeto*valor_hora)\n",
    "print(valortotal)"
   ]
  },
  {
   "cell_type": "code",
   "execution_count": null,
   "metadata": {},
   "outputs": [
    {
     "name": "stdout",
     "output_type": "stream",
     "text": [
      "12000.0\n"
     ]
    }
   ],
   "source": [
    "horaspordia= float (input('quantas horas por dia serão gastas?'))\n",
    "valor_hora= float (input('qual será o valor da hora?'))\n",
    "dia_projeto= float (input('quantos dias serão gastos no projeto?'))\n",
    "valortotal= (horaspordia*valor_hora*dia_projeto)\n",
    "print(valortotal)"
   ]
  },
  {
   "cell_type": "code",
   "execution_count": null,
   "metadata": {},
   "outputs": [
    {
     "ename": "SyntaxError",
     "evalue": "invalid syntax (3298552235.py, line 1)",
     "output_type": "error",
     "traceback": [
      "\u001b[1;36m  Cell \u001b[1;32mIn[1], line 1\u001b[1;36m\u001b[0m\n\u001b[1;33m    horaspordia= float 8, * valor_hora= 100, * dia_projeto= 15,  valortotal= (horaspordia *valor_hora *dia_projeto), (print (valortotal))\u001b[0m\n\u001b[1;37m                       ^\u001b[0m\n\u001b[1;31mSyntaxError\u001b[0m\u001b[1;31m:\u001b[0m invalid syntax\n"
     ]
    }
   ],
   "source": [
    "horaspordia= float 8, * valor_hora= 100, * dia_projeto= 15,  valortotal= (horaspordia *valor_hora *dia_projeto), (print (valortotal))"
   ]
  },
  {
   "cell_type": "markdown",
   "metadata": {},
   "source": [
    "29/02/24 - Operadores relacionais e estrutura condicional "
   ]
  },
  {
   "cell_type": "code",
   "execution_count": null,
   "metadata": {},
   "outputs": [
    {
     "name": "stdout",
     "output_type": "stream",
     "text": [
      "a>b? False\n",
      "a==b? False\n",
      "a!=b? True\n",
      "a>=b? False\n"
     ]
    }
   ],
   "source": [
    "a=2\n",
    "b=3\n",
    "# (>) -maior que\n",
    "\n",
    "print(f'a>b? {a>b}')\n",
    "\n",
    "# (==) Igualdade\n",
    "print(f'a==b? {a==b}')\n",
    "\n",
    "# (!=) Diferente\n",
    "print(f'a!=b? {a!=b}')\n",
    "\n",
    "# (>=) Maior ou igual \n",
    "print(f'a>=b? {a>=b}')\n"
   ]
  },
  {
   "cell_type": "code",
   "execution_count": null,
   "metadata": {},
   "outputs": [
    {
     "name": "stdout",
     "output_type": "stream",
     "text": [
      "posso entrar\n"
     ]
    }
   ],
   "source": [
    "tenho_ingresso=True\n",
    "if tenho_ingresso==True:\n",
    "    print('posso entrar')\n",
    "\n"
   ]
  },
  {
   "cell_type": "code",
   "execution_count": null,
   "metadata": {},
   "outputs": [
    {
     "name": "stdout",
     "output_type": "stream",
     "text": [
      "Menor de Idade\n",
      "fim\n"
     ]
    }
   ],
   "source": [
    "# Passo1: Receber o valor da idade\n",
    "idade= int(input('insira a sua idade:'))\n",
    "# Passo2: Verificar SE é maior ou igual a 18 ENTÃO:\n",
    "\n",
    "if idade>=18:\n",
    "    #Passo 3: Se for Exibir \"Maior Idade\"\n",
    "    print('Maior Idade')\n",
    "else:\n",
    "    print('Menor de Idade') \n",
    "\n",
    "print('fim')"
   ]
  },
  {
   "cell_type": "code",
   "execution_count": 61,
   "metadata": {},
   "outputs": [
    {
     "name": "stdout",
     "output_type": "stream",
     "text": [
      "posso entrar\n"
     ]
    }
   ],
   "source": [
    "tenho_ingresso= True\n",
    "if tenho_ingresso==True:\n",
    "    print('posso entrar')\n",
    "else:\n",
    "    print('Vá comprar')"
   ]
  },
  {
   "cell_type": "markdown",
   "metadata": {},
   "source": [
    "1. Leia 2 notas de um aluno, calcule a média e imprima aprovado ou reprovado (para ser aprovado a média deve ser no mínimo 7)"
   ]
  },
  {
   "cell_type": "code",
   "execution_count": 66,
   "metadata": {},
   "outputs": [
    {
     "name": "stdout",
     "output_type": "stream",
     "text": [
      "reprovado\n"
     ]
    }
   ],
   "source": [
    "nota1= float(input('insira a primeira nota:'))\n",
    "nota2= float(input('insira a segunda nota:'))\n",
    "media= (nota1+nota2)/2\n",
    "if media >=7:\n",
    "    print('aprovado')\n",
    "else:\n",
    "    print('reprovado')"
   ]
  },
  {
   "cell_type": "markdown",
   "metadata": {},
   "source": [
    "2. Peça dois números ao usuário e mostre qual o maior ou menor "
   ]
  },
  {
   "cell_type": "code",
   "execution_count": 69,
   "metadata": {},
   "outputs": [
    {
     "name": "stdout",
     "output_type": "stream",
     "text": [
      "segundo número: 10.0 é maior que o primeiro\n"
     ]
    }
   ],
   "source": [
    "numero1= float(input('insira o primeiro número:'))\n",
    "numero2= float(input('insira o segundo número:'))\n",
    "if numero1>numero2:\n",
    "    print(f'primeiro número: {numero1}, é maior que o segundo')\n",
    "\n",
    "else: \n",
    "    print(f'segundo número: {numero2}, é maior que o primeiro')\n"
   ]
  },
  {
   "cell_type": "markdown",
   "metadata": {},
   "source": [
    "3. Receba um inteiro e diga se é par ou ímpar."
   ]
  },
  {
   "cell_type": "code",
   "execution_count": 84,
   "metadata": {},
   "outputs": [
    {
     "name": "stdout",
     "output_type": "stream",
     "text": [
      "o número é impar\n"
     ]
    }
   ],
   "source": [
    "numero= int(input('insira um número:'))\n",
    "if numero%2==0:\n",
    "    print('o número é par')\n",
    "\n",
    "else:\n",
    "    print('o número é impar')"
   ]
  },
  {
   "cell_type": "markdown",
   "metadata": {},
   "source": [
    "4. Receba um número inteiro e diga se é positivo ou negativo"
   ]
  },
  {
   "cell_type": "code",
   "execution_count": 85,
   "metadata": {},
   "outputs": [
    {
     "name": "stdout",
     "output_type": "stream",
     "text": [
      "o número é positivo\n"
     ]
    }
   ],
   "source": [
    "numero= int(input('insira um número:'))\n",
    "if numero>0:\n",
    "    print(\"o número é positivo\")\n",
    "\n",
    "else:\n",
    "    print('número é negativo')"
   ]
  },
  {
   "cell_type": "markdown",
   "metadata": {},
   "source": [
    "5. Pergunte o ano de nascimento de uma pessoa e diga se ele é maior de idade"
   ]
  },
  {
   "cell_type": "code",
   "execution_count": 97,
   "metadata": {},
   "outputs": [
    {
     "name": "stdout",
     "output_type": "stream",
     "text": [
      "você é menor de idade\n"
     ]
    }
   ],
   "source": [
    "ano_nascimento= int(input('insira o ano em que você nasceu:'))\n",
    "if ano_nascimento< 2006:\n",
    "    print('você é maior de idade')\n",
    "\n",
    "else:\n",
    "    print('você é menor de idade')"
   ]
  },
  {
   "cell_type": "markdown",
   "metadata": {},
   "source": [
    "6. Ler dois números inteiros e informar se estes são iguais ou diferentes."
   ]
  },
  {
   "cell_type": "code",
   "execution_count": 16,
   "metadata": {},
   "outputs": [
    {
     "name": "stdout",
     "output_type": "stream",
     "text": [
      "primeiro número e o segundo número são iguais\n"
     ]
    }
   ],
   "source": [
    "numero1= int(input('insira o primeiro número:'))\n",
    "numero2= int(input('insira o segundo número:'))\n",
    "if numero1==numero2:\n",
    "    print('primeiro número e o segundo número são iguais')\n",
    "\n",
    "else:\n",
    "    print('O primeiro e o segundo número são diferentes')"
   ]
  },
  {
   "cell_type": "markdown",
   "metadata": {},
   "source": [
    "7. Receba a velocidade do carro e exiba que foi multado se for maior que 80km/h, o valor da\n",
    "multa será R$ 7,00 por cada km excedido, exibir o valor da multa"
   ]
  },
  {
   "cell_type": "code",
   "execution_count": 14,
   "metadata": {},
   "outputs": [
    {
     "name": "stdout",
     "output_type": "stream",
     "text": [
      "você não será multado\n"
     ]
    }
   ],
   "source": [
    "velocidade_carro= float(input('insira a velocidade do carro:'))\n",
    "if velocidade_carro>80:\n",
    "    print(f\"você será multado, o valor da multa será {(velocidade_carro-80)*7.00}\")\n",
    "\n",
    "else:\n",
    "    print('você não será multado')"
   ]
  },
  {
   "cell_type": "markdown",
   "metadata": {},
   "source": [
    "Crie um programa que receba três números e os imprima em ordem crescente."
   ]
  },
  {
   "cell_type": "code",
   "execution_count": 18,
   "metadata": {},
   "outputs": [
    {
     "ename": "IndentationError",
     "evalue": "unexpected indent (3461233387.py, line 4)",
     "output_type": "error",
     "traceback": [
      "\u001b[1;36m  Cell \u001b[1;32mIn[18], line 4\u001b[1;36m\u001b[0m\n\u001b[1;33m    if numero1>numero2>numero3:\u001b[0m\n\u001b[1;37m    ^\u001b[0m\n\u001b[1;31mIndentationError\u001b[0m\u001b[1;31m:\u001b[0m unexpected indent\n"
     ]
    }
   ],
   "source": [
    "numero1= float(input('insira um número:'))\n",
    "numero2= float(input('insira um número:'))\n",
    "numero3= float(input('insira um número:'))\n",
    " if numero1>numero2>numero3:\n",
    " print(numero1, numero2, numero3)"
   ]
  },
  {
   "cell_type": "markdown",
   "metadata": {},
   "source": [
    "Escreva um programa que calcule o preço a ser pago por um produto considerando um desconto de 10% se o valor da compra for maior que R$ 100,00."
   ]
  },
  {
   "cell_type": "code",
   "execution_count": null,
   "metadata": {},
   "outputs": [],
   "source": [
    "preco= float(input('insira o valor da compra'))\n",
    "if preco>100:\n",
    "    preco*100/10\n",
    "    print(f'O valor a ser pago é: R$')"
   ]
  },
  {
   "cell_type": "markdown",
   "metadata": {},
   "source": [
    "01/03/24 - Operadores Lógicos e Estrutura condicional "
   ]
  },
  {
   "cell_type": "code",
   "execution_count": 41,
   "metadata": {},
   "outputs": [
    {
     "name": "stdout",
     "output_type": "stream",
     "text": [
      "False\n",
      "True\n",
      "True\n",
      "True\n"
     ]
    }
   ],
   "source": [
    "a = 2\n",
    "b = 3\n",
    "c = 5\n",
    "#     false e  false\n",
    "print((a>2)and(b<2)) #false \n",
    "#    False ou false  \n",
    "print((a>2)or(b>2)) #false \n",
    "#     false ou True  \n",
    "print((a>2)or(b>2)) #True\n",
    "\n",
    "idade= 18\n",
    "#     false           True\n",
    "print( idade > 18 or idade==18)\n",
    "#        idade >= 18 "
   ]
  },
  {
   "cell_type": "code",
   "execution_count": 56,
   "metadata": {},
   "outputs": [
    {
     "name": "stdout",
     "output_type": "stream",
     "text": [
      "Obesidade\n"
     ]
    }
   ],
   "source": [
    "altura= float (input('digite sua altura (em m):'))\n",
    "peso= float (input('digite seu peso em Kg:'))\n",
    "imc= peso / (altura**2)\n",
    "print (f' Seu IMC é {imc:.1f}')\n",
    "if imc<18.5:\n",
    "    print('Abaixo do peso ideal!')\n",
    "elif imc >= 18.5 and imc <= 24.9:\n",
    "    print('Peso ideal!')\n",
    "elif imc >= 25 and imc <= 29.9:\n",
    "    print('Sobrepeso')\n",
    "else:\n",
    "   print('Obesidade')\n",
    "\n"
   ]
  },
  {
   "cell_type": "code",
   "execution_count": 58,
   "metadata": {},
   "outputs": [
    {
     "name": "stdout",
     "output_type": "stream",
     "text": [
      "Triângulo Equilátero\n"
     ]
    }
   ],
   "source": [
    "lado1= input ('digite lado1:')\n",
    "lado2= input ('digite lado2:')\n",
    "lado3= input ('digite lado3:')\n",
    "if (lado1==lado2)and(lado2==lado3):\n",
    "    print('Triângulo Equilátero')\n",
    "elif (lado1!= lado2)and(lado2!=lado3)and(lado1!=lado3):\n",
    "    print('Triângulo Escaleno')\n",
    "else:\n",
    "    print(\"Triângulo isósceles\")\n"
   ]
  },
  {
   "cell_type": "code",
   "execution_count": 7,
   "metadata": {},
   "outputs": [
    {
     "name": "stdout",
     "output_type": "stream",
     "text": [
      "a letra a b  não é uma vogal\n"
     ]
    }
   ],
   "source": [
    "letra= input('digite uma letra:')\n",
    "if letra== 'a' or letra== 'e' or letra== 'i' or letra=='u': \n",
    "    print(f'a letra {letra} é uma vogal')\n",
    "elif letra== '1' or letra== '2' or letra== '3' :\n",
    "    print(f'a letra {letra} é um número')\n",
    "else:\n",
    "    print(f'a letra {letra} não é uma vogal')\n"
   ]
  },
  {
   "cell_type": "markdown",
   "metadata": {},
   "source": [
    "07/03/24- Estrutura condicional aninhada/ match case"
   ]
  },
  {
   "cell_type": "code",
   "execution_count": 12,
   "metadata": {},
   "outputs": [
    {
     "name": "stdout",
     "output_type": "stream",
     "text": [
      "Você é obrigado a votar\n",
      "FIM\n"
     ]
    }
   ],
   "source": [
    "idade= int(input('digite a sua idade:'))\n",
    "if idade>= 18 and idade <= 70:\n",
    "    print('Você é obrigado a votar')\n",
    "else:\n",
    "    if idade<16:\n",
    "        print('Você não pode votar')\n",
    "    else:\n",
    "        if idade >= 16 or idade>70:\n",
    "            print('Seu voto é facultativo')\n",
    "print('FIM')\n"
   ]
  },
  {
   "cell_type": "code",
   "execution_count": 32,
   "metadata": {},
   "outputs": [
    {
     "name": "stdout",
     "output_type": "stream",
     "text": [
      "False\n"
     ]
    }
   ],
   "source": [
    "numero1= int(input('insira o primeiro número'))\n",
    "numero2= int(input(('insira o segundo número')))\n",
    "operador= (input('insira o operador + - * / **:'))\n",
    "match operador:\n",
    "    case '+': # if op == '+' :\n",
    "        print(numero1+numero2)\n",
    "    case '-': # if op == '-' :\n",
    "        print(numero1-numero2)\n",
    "    case '*': # if op == '*' :\n",
    "        print(numero1*numero2)\n",
    "    case '/': # if op == '/' :\n",
    "        print(numero1/numero2) \n",
    "    case _:\n",
    "        print(' Operador digitado inválido')   \n",
    "\n"
   ]
  },
  {
   "cell_type": "code",
   "execution_count": 33,
   "metadata": {},
   "outputs": [
    {
     "name": "stdout",
     "output_type": "stream",
     "text": [
      "5\n"
     ]
    }
   ],
   "source": [
    "numero1= int(input('insira o primeiro número'))\n",
    "numero2= int(input(('insira o segundo número')))\n",
    "operador= (input('insira o operador + - * / **:'))\n",
    "if operador == \"+\":\n",
    "    print(numero1+numero2)\n",
    "    if operador == \"-\":\n",
    "        print(numero1-numero2)\n",
    "        if operador == '*':\n",
    "            print(numero1*numero2)\n",
    "            if operador == \"/\":\n",
    "                print(numero1/numero2)\n",
    "else:\n",
    "    print('operador inválido')"
   ]
  },
  {
   "cell_type": "markdown",
   "metadata": {},
   "source": [
    "08/03/24 - Laços de repetição - While "
   ]
  },
  {
   "cell_type": "code",
   "execution_count": null,
   "metadata": {},
   "outputs": [],
   "source": [
    "x = 1\n",
    "while x <= 50:\n",
    "    print('Eu vou prestar atenção na aula', x)\n",
    "    x = x + 1 \n",
    "print('FIM')"
   ]
  },
  {
   "cell_type": "code",
   "execution_count": 54,
   "metadata": {},
   "outputs": [
    {
     "name": "stdout",
     "output_type": "stream",
     "text": [
      "10\n"
     ]
    }
   ],
   "source": [
    "import time # Importando uma biblioteca de tempo \n",
    "x = 10 \n",
    "while x >= 0 :\n",
    "    print(x)\n",
    "    time.sleep(1) # Dando uma pausa de 1s na execução\n",
    "    x = x - 1\n",
    "print(' Feliz ano novo! 🎆')"
   ]
  },
  {
   "cell_type": "code",
   "execution_count": 5,
   "metadata": {},
   "outputs": [
    {
     "name": "stdout",
     "output_type": "stream",
     "text": [
      " Seja bem vindo, Vini\n",
      " Seja bem vindo, felipe\n",
      " Seja bem vindo, sair\n"
     ]
    }
   ],
   "source": [
    "texto= ''\n",
    "while texto != 'sair':\n",
    "    texto = input ('digite o seu nome (\"sair\" para terminar) :')\n",
    "    print(f' Seja bem vindo, {texto}')"
   ]
  },
  {
   "cell_type": "code",
   "execution_count": 2,
   "metadata": {},
   "outputs": [
    {
     "name": "stdout",
     "output_type": "stream",
     "text": [
      "Você está preso tentando kackear a rede\n",
      "Você hackeou a Rede\n",
      "FIM\n"
     ]
    }
   ],
   "source": [
    "senha_senai= '12345' \n",
    "nr_tentativa= 0 \n",
    "while True : \n",
    "    senha = input('Qual é a senha? 🤔\"desisto\" para sair 🔒')\n",
    "    if senha == senha_senai :\n",
    "        print('Você hackeou a Rede')\n",
    "        break\n",
    "    elif senha == 'Desisto':\n",
    "        break\n",
    "    else: \n",
    "        nr_tentativa = nr_tentativa + 1\n",
    "        if nr_tentativa == 3:\n",
    "            print('Você está preso tentando kackear a rede')\n",
    "print('FIM')\n"
   ]
  },
  {
   "cell_type": "code",
   "execution_count": 4,
   "metadata": {},
   "outputs": [
    {
     "name": "stdout",
     "output_type": "stream",
     "text": [
      "Senha incorreta\n",
      "Senha incorreta\n",
      "Senha incorreta\n",
      "Senha incorreta\n",
      "Senha incorreta\n",
      "Senha incorreta\n",
      "Senha incorreta\n",
      "Senha incorreta\n",
      "Senha incorreta\n"
     ]
    }
   ],
   "source": [
    "senha_rede = '12346'\n",
    "nr_tentativa= 0 \n",
    "while True:\n",
    "    senha= input('insira a senha')\n",
    "    if senha_rede == senha:\n",
    "        print ('rede conectada')\n",
    "        break\n",
    "    elif senha_rede != senha:\n",
    "        print('Senha incorreta')\n",
    "    else:\n",
    "        nr_tentativa +1\n",
    "        if nr_tentativa == 4:\n",
    "            print ('Espere 30 minustos para tentar novamente')\n",
    "    \n"
   ]
  },
  {
   "cell_type": "markdown",
   "metadata": {},
   "source": [
    "21/03/24 - Revisão de while \n"
   ]
  },
  {
   "cell_type": "code",
   "execution_count": 9,
   "metadata": {},
   "outputs": [
    {
     "name": "stdout",
     "output_type": "stream",
     "text": [
      "FIM\n"
     ]
    }
   ],
   "source": [
    "resp = \"S\"\n",
    "while resp == \"S\" :\n",
    "        resp = input(\"Deseja continhuar? [S/N]\")\n",
    "\n",
    "print('FIM')"
   ]
  },
  {
   "cell_type": "code",
   "execution_count": 30,
   "metadata": {},
   "outputs": [
    {
     "name": "stdout",
     "output_type": "stream",
     "text": [
      "Valor total R$: 2.00, a quantidade de produtos foi 3\n"
     ]
    }
   ],
   "source": [
    "soma = 0 \n",
    "Qprodutos= 0 \n",
    "while True:\n",
    "    valor = float(input('Digite o valor do produto [-1 para encerrar]'))\n",
    "    Qprodutos= Qprodutos + 1\n",
    "    if valor == -1:\n",
    "        break\n",
    "    soma = valor + soma\n",
    "print(f'Valor total R$: {soma:.2f}, a quantidade de produtos foi {Qprodutos}')\n",
    "\n"
   ]
  },
  {
   "cell_type": "code",
   "execution_count": 13,
   "metadata": {},
   "outputs": [
    {
     "name": "stdout",
     "output_type": "stream",
     "text": [
      " O Valor total R$: 2.00, a quantidade de produtos foi 2 produtos\n"
     ]
    }
   ],
   "source": [
    "soma = 0 \n",
    "Qprodutos= 0 \n",
    "while True:\n",
    "  valor = float(input('Digite o valor do produto [-1 para encerrar]'))\n",
    "  if valor == -1:\n",
    "        break\n",
    "  soma = valor + soma\n",
    "  Qprodutos= Qprodutos + 1\n",
    "print(f' O Valor total R$: {soma:.2f}, a quantidade de produtos foi {Qprodutos} produtos')"
   ]
  },
  {
   "cell_type": "code",
   "execution_count": 6,
   "metadata": {},
   "outputs": [
    {
     "name": "stdout",
     "output_type": "stream",
     "text": [
      "-=-=-=-=-=-=-=-=-=-=-=-=-=-=-=-=-=-=\n",
      "🤔 JOGO DA ADIVINHAÇÃO 🤔\n",
      "-=-=-=-=-=-=-=-=-=-=-=-=-=-=-=-=-=-=\n",
      "Você chutou 12, tente um número maior ☝\n",
      "Você chutou 15, tente um número maior ☝\n",
      "Você chutou 45, tente um número maior ☝\n",
      " Você chutou 56. Tente um número menor 👇\n",
      " Você chutou 57. Tente um número menor 👇\n",
      "Você chutou 50, tente um número maior ☝\n",
      " Você chutou 54. Tente um número menor 👇\n",
      "Você chutou 52, tente um número maior ☝\n",
      "Você chutou 53. Parabéns você acertou 👏 \n"
     ]
    }
   ],
   "source": [
    "#Importando a biblioteca de número aleatórios \n",
    "import random\n",
    "#Sorteando un número de 1 a 100 \n",
    "nrsorteado = random.randint(1, 100)\n",
    "\n",
    "\n",
    "print('-=-=-=-=-=-=-=-=-=-=-=-=-=-=-=-=-=-=')\n",
    "print('🤔 JOGO DA ADIVINHAÇÃO 🤔')\n",
    "print('-=-=-=-=-=-=-=-=-=-=-=-=-=-=-=-=-=-=')\n",
    "\n",
    "acertou = False\n",
    "while acertou == False :\n",
    "    chute = int(input('🕵️‍♀️Digite um número entre 1 e 100'))\n",
    "    if chute == nrsorteado:\n",
    "        print(f'Você chutou {chute}. Parabéns você acertou 👏 ')\n",
    "        acertou = True\n",
    "    elif chute > nrsorteado :\n",
    "        print(f' Você chutou {chute}. Tente um número menor 👇')\n",
    "    else :\n",
    "        print(f'Você chutou {chute}, tente um número maior ☝')\n"
   ]
  },
  {
   "cell_type": "code",
   "execution_count": 48,
   "metadata": {},
   "outputs": [
    {
     "name": "stdout",
     "output_type": "stream",
     "text": [
      " 4 é par\n"
     ]
    }
   ],
   "source": [
    "import random\n",
    "numero = random.randint(1, 20)\n",
    "if numero % 2 == 0: \n",
    "    print (f' {numero} é par')"
   ]
  },
  {
   "cell_type": "code",
   "execution_count": 2,
   "metadata": {},
   "outputs": [
    {
     "name": "stdout",
     "output_type": "stream",
     "text": [
      "1\n"
     ]
    }
   ],
   "source": [
    "numero = 1\n",
    "while numero <= 20 :\n",
    "    print(numero)\n",
    "    break"
   ]
  },
  {
   "cell_type": "markdown",
   "metadata": {},
   "source": [
    "22/03/24 - For "
   ]
  },
  {
   "cell_type": "code",
   "execution_count": 13,
   "metadata": {},
   "outputs": [
    {
     "name": "stdout",
     "output_type": "stream",
     "text": [
      "0\n",
      "1\n",
      "2\n",
      "3\n",
      "4\n",
      "5\n",
      "6\n",
      "7\n",
      "8\n",
      "9\n",
      "10\n",
      "11\n",
      "12\n",
      "13\n",
      "14\n",
      "15\n",
      "16\n",
      "17\n",
      "18\n",
      "19\n"
     ]
    }
   ],
   "source": [
    "for x in range(20) :\n",
    "    if x % 2 == 0:\n",
    "        print(x)"
   ]
  },
  {
   "cell_type": "code",
   "execution_count": 1,
   "metadata": {},
   "outputs": [
    {
     "name": "stdout",
     "output_type": "stream",
     "text": [
      " Entregando os notebooks\n",
      " Pegar o notebook 1\n",
      " Pegar o mouse 1\n",
      " Levar o notebbok até o(a) \n",
      " Pegar o notebook 2\n",
      " Pegar o mouse 2\n",
      " Levar o notebbok até o(a) Pereira \n",
      " Pegar o notebook 3\n",
      " Pegar o mouse 3\n",
      " Levar o notebbok até o(a) Camila \n",
      "Começar a aula\n"
     ]
    }
   ],
   "source": [
    "print(' Entregando os notebooks')\n",
    "for nr in range(3) :\n",
    "    nr = nr + 1  \n",
    "    nome = input(f' Quem é o nº {nr}? ')\n",
    "    presente = input(f' O(A) {nome} veio para a escola? [S/N]')\n",
    "    if presente == 'S' :\n",
    "        print(f' Pegar o notebook {nr}')\n",
    "        print(f' Pegar o mouse {nr}')\n",
    "        print(f' Levar o notebbok até o(a) {nome}')\n",
    "    else: \n",
    "        print(f'Não pegar o notebook {nr}')\n",
    "\n",
    "print('Começar a aula')"
   ]
  },
  {
   "cell_type": "code",
   "execution_count": null,
   "metadata": {},
   "outputs": [],
   "source": [
    "for x in range(100, 200) :\n",
    "    if x % 2 == 0:\n",
    "        print(f' {x} é par')\n",
    "    else:\n",
    "        print(f' {x} é impar ')"
   ]
  },
  {
   "cell_type": "code",
   "execution_count": null,
   "metadata": {},
   "outputs": [],
   "source": [
    "for x in range(5, 30, 4):\n",
    "    print(x)"
   ]
  },
  {
   "cell_type": "code",
   "execution_count": null,
   "metadata": {},
   "outputs": [],
   "source": [
    "n = int(input(' insira um número: '))\n",
    "for x in range(11) :\n",
    "    print(f' {n} x {x} = {n*x}')"
   ]
  },
  {
   "cell_type": "code",
   "execution_count": null,
   "metadata": {},
   "outputs": [],
   "source": [
    "n = [ 'Arthur', 'Pereira', 'Camila', 'Cauã']\n",
    "print(n)"
   ]
  },
  {
   "cell_type": "code",
   "execution_count": 31,
   "metadata": {},
   "outputs": [
    {
     "name": "stdout",
     "output_type": "stream",
     "text": [
      "S\n",
      "E\n",
      "S\n",
      "I\n",
      "/\n",
      "S\n",
      "E\n",
      "N\n",
      "A\n",
      "I\n",
      "FIM\n"
     ]
    }
   ],
   "source": [
    "for letra in 'SESI/SENAI' :\n",
    "    print(letra)\n",
    "print('FIM')"
   ]
  },
  {
   "cell_type": "code",
   "execution_count": 40,
   "metadata": {},
   "outputs": [
    {
     "name": "stdout",
     "output_type": "stream",
     "text": [
      "0\n",
      "1\n",
      "2\n",
      "3\n",
      "4\n",
      "5\n",
      "6\n",
      "7\n",
      "8\n",
      "9\n",
      "10\n"
     ]
    }
   ],
   "source": [
    "for x in range(100) :\n",
    "    if x == 11 :\n",
    "        break\n",
    "    print(x)\n",
    "    "
   ]
  },
  {
   "cell_type": "code",
   "execution_count": 42,
   "metadata": {},
   "outputs": [
    {
     "name": "stdout",
     "output_type": "stream",
     "text": [
      "1\n",
      "18\n",
      "22\n",
      "39\n",
      "21\n",
      "19\n"
     ]
    }
   ],
   "source": [
    "import random\n",
    "\n",
    "for x in range (1, 7) :\n",
    "    x = random.randint (1 , 60)\n",
    "    print(x)"
   ]
  },
  {
   "cell_type": "code",
   "execution_count": 47,
   "metadata": {},
   "outputs": [
    {
     "name": "stdout",
     "output_type": "stream",
     "text": [
      " a soma de todos os valores é 5, a quantidade de pares foi de 0, a quantidade de impar foi de 5\n"
     ]
    }
   ],
   "source": [
    "soma = 0 \n",
    "par= 0\n",
    "impar = 0\n",
    "for x in range(1, 6):\n",
    "    numero = int(input('Insira um número: '))\n",
    "    soma = soma + numero\n",
    "    if numero % 2 == 0:\n",
    "        par= par + 1\n",
    "    if numero % 2 != 0:\n",
    "        impar = impar + 1\n",
    "print(f' a soma de todos os valores é {soma}, a quantidade de pares foi de {par}, a quantidade de impar foi de {impar}')\n"
   ]
  },
  {
   "cell_type": "code",
   "execution_count": 49,
   "metadata": {},
   "outputs": [
    {
     "name": "stdout",
     "output_type": "stream",
     "text": [
      "12\n",
      "49\n",
      "24\n",
      "19\n",
      "13\n",
      "45\n"
     ]
    }
   ],
   "source": [
    "import random\n",
    "\n",
    "for x in range (1, 7) :\n",
    "    x = random.randint (1 , 60)\n",
    "    print(x)\n",
    "    "
   ]
  },
  {
   "cell_type": "code",
   "execution_count": null,
   "metadata": {},
   "outputs": [],
   "source": [
    "inicio = int (input('insira os parametros de inicio'))\n",
    "fim = int (input('insira os parametros de fim'))\n",
    "passo = int (input('insira os parametros de passo'))\n",
    "for x in range ([inicio]  [fim] [passo]):\n",
    "    print(x)"
   ]
  },
  {
   "cell_type": "markdown",
   "metadata": {},
   "source": [
    "28/03/2024 - Variáveis compostas - Vetores/Listas "
   ]
  },
  {
   "cell_type": "code",
   "execution_count": null,
   "metadata": {},
   "outputs": [],
   "source": [
    "frutas = ['Maça', 'Banana', 'Abacaxi', 'Uva']\n",
    "print (frutas)\n",
    "print (frutas[1]) \n",
    "\n",
    "#Declaração de uma lista vazia \n",
    "lista_vazia = []\n",
    "\n",
    "#Declaração de uma lista de números \n",
    "numeros = [5, 8, 7, 8, 9, 10, 11]\n",
    "\n",
    "#Declaração de uma lista de strings \n",
    "nomes = ['Ana', 'João', 'Maria']\n",
    "\n",
    "#Declaração de uma lista vazia \n",
    "lista_mista = [1, 'teste', True, 3.5]\n",
    "\n",
    "#Alterando o valor de item da lista\n",
    "frutas[3] = 'Melancia'\n",
    "print(frutas)\n",
    "\n",
    "#Incluindo um novo item no final da lista \n",
    "frutas.append('Laranja')\n",
    "print(frutas)\n",
    "\n",
    "#Incluindo um novo item em uma posição específica \n",
    "frutas.insert(2, 'Morango')\n",
    "print(frutas)\n",
    "\n",
    "#Excluindo item da lista \n",
    "del frutas[3]\n",
    "frutas.pop(3)\n",
    "frutas.remove('Abacaxi')\n",
    "frutas.pop() # exclui o ultimo item da lista \n",
    "\n",
    "# Acessando os itens da lista:\n",
    "frutas = ['Maça', 'Banana', 'Abacaxi', 'Melancia', 'Laranja', 'Uva']\n",
    "print(frutas[4]) # Posição específica \n",
    "print(frutas[0:4]) # Da posição 0 pegar 4 itens \n",
    "print(frutas[1:]) # Da posição 1 até o ultimo \n",
    "print(frutas[-1]) # Nr de itens do fim pro inicio \n",
    "print(len(frutas)) # Total de itens da lista\n",
    "\n",
    "# Ordenando itens da lista\n",
    "frutas.sort() #Ordenando lista em ordem crescente \n",
    "print(frutas)\n",
    "frutas.reverse() # Ordenando lista em ordem decrescente \n",
    "print(frutas)\n"
   ]
  },
  {
   "cell_type": "code",
   "execution_count": 49,
   "metadata": {},
   "outputs": [
    {
     "name": "stdout",
     "output_type": "stream",
     "text": [
      "4\n"
     ]
    }
   ],
   "source": [
    "frutas = ['Maça', 'Banana', 'Abacaxi', 'Uva']\n",
    "print(len(frutas))"
   ]
  },
  {
   "cell_type": "code",
   "execution_count": 10,
   "metadata": {},
   "outputs": [
    {
     "name": "stdout",
     "output_type": "stream",
     "text": [
      "None\n"
     ]
    }
   ],
   "source": [
    "numeros = [5, 8, 7, 8, 9, 10, 11]\n",
    "numeros.sort()\n",
    "print(numeros.sort())"
   ]
  },
  {
   "cell_type": "markdown",
   "metadata": {},
   "source": [
    "> Aula 04/04/24 - Iteração em listas "
   ]
  },
  {
   "cell_type": "code",
   "execution_count": 25,
   "metadata": {},
   "outputs": [
    {
     "name": "stdout",
     "output_type": "stream",
     "text": [
      "é um número\n"
     ]
    }
   ],
   "source": [
    "#Criando uma lista de vogais \n",
    "vogais = ['a', 'e', 'o', 'u']\n",
    "#Recebendo um caractere digitando pelo usúario\n",
    "letra = input('Digite uma letra: ')\n",
    "consoantes = ['b', 'c', 'd', 'f', 'g', 'h', 'i', 'j', 'k', 'l', 'm', 'n', 'p', 'q', 'r', 's', 't', 'v', 'x', 'w', 'y', 'z']\n",
    "# O método .lower() deixa todas as letras digitadas como minúsculas \n",
    "# O método .upper() deixa todas as letras digitadas como maiúsculas\n",
    "# Lemos da seguinte forma:\n",
    "# SE  a letrea em MINUSCULA ESTIvER na lista de vogais ENTÃO \n",
    "if letra.lower() in vogais :\n",
    "    print(f' {letra} É uma vogal')\n",
    "elif letra.lower() in consoantes:\n",
    "    print(f' {letra} É uma consoante') \n",
    "else:\n",
    "    print(f' {letra} não é uma letra')"
   ]
  },
  {
   "cell_type": "code",
   "execution_count": 6,
   "metadata": {},
   "outputs": [
    {
     "name": "stdout",
     "output_type": "stream",
     "text": [
      " 33 é um número\n"
     ]
    }
   ],
   "source": [
    "vogais = ['a', 'e', 'o', 'u']\n",
    "letra = input('Digite um caractere: ')\n",
    "consoantes = ['b', 'c', 'd', 'f', 'g', 'h', 'i', 'j', 'k', 'l', 'm', 'n', 'p', 'q', 'r', 's', 't', 'v', 'x', 'w', 'y', 'z']\n",
    "numero = ['0', '1', '2', '3', '4', '5', '6', '7', '8', '9']\n",
    "caractere_especial = ['#', \"!\", '@', \"$\", \"%\", \"¨¨\", \"&\", '*', \"()\" \"-\", \"_\" \"+\", '=', '§', '/', '*' '-', ',' ]\n",
    "if letra.lower() in vogais :\n",
    "    print(f' {letra} É uma vogal')\n",
    "elif letra.lower() in consoantes:\n",
    "    print(f' {letra} É uma consoante') \n",
    "elif letra[0].lower() in numero:\n",
    "    print(f' {letra} é um número')"
   ]
  },
  {
   "cell_type": "code",
   "execution_count": 28,
   "metadata": {},
   "outputs": [
    {
     "name": "stdout",
     "output_type": "stream",
     "text": [
      "Pelé\n",
      "Maradona\n",
      "Messi\n",
      "Cristiano Ronaldo\n"
     ]
    }
   ],
   "source": [
    "import time\n",
    "listanomes = ['Pelé', 'Maradona', 'Messi', 'Cristiano Ronaldo']\n",
    "for nome in listanomes:\n",
    "    time.sleep(0.5)\n",
    "    print(nome)"
   ]
  },
  {
   "cell_type": "code",
   "execution_count": null,
   "metadata": {},
   "outputs": [],
   "source": [
    "listanumero = [1, 2, 3, 4, 5, 6, 7, 8, 9, 10]\n",
    "for numero in listanumero:\n",
    "    print(numero)"
   ]
  },
  {
   "cell_type": "code",
   "execution_count": 22,
   "metadata": {},
   "outputs": [
    {
     "name": "stdout",
     "output_type": "stream",
     "text": [
      "26\n",
      "26\n"
     ]
    }
   ],
   "source": [
    "listanumero = [4, 6, 2, 5, 9]\n",
    "soma = 0\n",
    "for nr in listanumero:\n",
    "    soma = soma + nr\n",
    "print (soma)\n",
    "\n",
    "#Essa função que escrevemos faz a mesma coisa que \n",
    "soma = sum(listanumero)\n",
    "print(soma)"
   ]
  },
  {
   "cell_type": "code",
   "execution_count": 29,
   "metadata": {},
   "outputs": [
    {
     "name": "stdout",
     "output_type": "stream",
     "text": [
      " A fruta Maçã, está na posição 0\n",
      " A fruta Banana, está na posição 1\n",
      " A fruta Abacaxi, está na posição 2\n",
      " A fruta Uva, está na posição 3\n"
     ]
    }
   ],
   "source": [
    "listafrutas = ['Maçã', 'Banana', 'Abacaxi', 'Uva']\n",
    "for pos, fruta in enumerate(listafrutas):\n",
    "    print(f' A fruta {fruta}, está na posição {pos}')"
   ]
  },
  {
   "cell_type": "code",
   "execution_count": 14,
   "metadata": {},
   "outputs": [
    {
     "name": "stdout",
     "output_type": "stream",
     "text": [
      "Celular,Notebook,TV,Tablet,Headset\n",
      "Celular,Notebook,TV,Tablet,Headset\n",
      "Celular,Notebook,TV,Tablet,Headset\n",
      "Celular,Notebook,TV,Tablet,Headset\n",
      "Celular,Notebook,TV,Tablet,Headset\n"
     ]
    }
   ],
   "source": [
    "produtos = 'Celular,Notebook,TV,Tablet,Headset'\n",
    "listaprodutos = produtos.split(',')\n",
    "for produto in listaprodutos:\n",
    "    print (produtos)"
   ]
  },
  {
   "cell_type": "code",
   "execution_count": 6,
   "metadata": {},
   "outputs": [
    {
     "name": "stdout",
     "output_type": "stream",
     "text": [
      " 1º churrasco\n",
      " 2º frango\n",
      " 3º macarrão\n",
      "churrasco\n"
     ]
    }
   ],
   "source": [
    "#Criando uma lista\n",
    "listacomidas = []\n",
    "#Laço de repetição sem um nr de execução definida \n",
    "while True:\n",
    "    #Recebendo informação do usuário e armazenando em uma variável \n",
    "    comida = input('Insira sua comida favorita: ')\n",
    "    #Inserindo o valor da variável no final da lista\n",
    "    listacomidas.append(comida)\n",
    "    #Obtendo a resposta do usuário se deseja continuar \n",
    "    resp = input('Deseja continuar: [S/N]: ')\n",
    "    #Verificando condição da respostas dele, se for N ou n sair do laço\n",
    "    if resp in 'Nn':\n",
    "        #Parando o laço de repetição While \n",
    "        break\n",
    "\n",
    "# Fora do While - Após finalizar sua execução e encontrar o break\n",
    "#Laço de repetição para exibir os itens e suas posições \n",
    "for pos, comida in enumerate(listacomidas):\n",
    "    #Exibindo as veriáveis de cada item da lista \n",
    "    print(f' {pos +1}º {comida}')\n",
    "\n",
    "print(listacomidas[0])\n",
    "\n"
   ]
  },
  {
   "cell_type": "markdown",
   "metadata": {},
   "source": [
    "> 11/04/2024 - Funções "
   ]
  },
  {
   "cell_type": "code",
   "execution_count": 2,
   "metadata": {},
   "outputs": [
    {
     "name": "stdout",
     "output_type": "stream",
     "text": [
      "--------------------\n",
      "SESI / SENAI\n",
      "--------------------\n"
     ]
    }
   ],
   "source": [
    "print( '-' * 20)\n",
    "print('SESI / SENAI')\n",
    "print('-' * 20)\n"
   ]
  },
  {
   "cell_type": "code",
   "execution_count": 15,
   "metadata": {},
   "outputs": [
    {
     "name": "stdout",
     "output_type": "stream",
     "text": [
      "--------------------\n",
      "----------------------------------------\n",
      "----------------------------------------------------------------------------------------------------\n",
      "SENAI\n",
      "SESI/SENAI\n",
      "SENAI\n",
      "--------------------\n",
      "----------------------------------------\n",
      "----------------------------------------------------------------------------------------------------\n"
     ]
    }
   ],
   "source": [
    "def Linha() :\n",
    "    print('-' * 20)\n",
    "    print('-' * 40)\n",
    "    print('-' * 100)\n",
    "def senai():\n",
    "    print('SENAI')\n",
    "Linha()\n",
    "senai()\n",
    "print('SESI/SENAI')\n",
    "senai()\n",
    "Linha()"
   ]
  },
  {
   "cell_type": "code",
   "execution_count": 20,
   "metadata": {},
   "outputs": [
    {
     "name": "stdout",
     "output_type": "stream",
     "text": [
      "--------------------\n",
      "SESI/SENAI\n",
      "--------------------\n"
     ]
    }
   ],
   "source": [
    "def Linha():\n",
    "    print('-' * 20)\n",
    "def cabecalho():\n",
    "    Linha()\n",
    "    print('SESI/SENAI')\n",
    "    Linha()\n",
    "\n",
    "cabecalho()\n",
    "\n"
   ]
  },
  {
   "cell_type": "code",
   "execution_count": 10,
   "metadata": {},
   "outputs": [
    {
     "name": "stdout",
     "output_type": "stream",
     "text": [
      "Tenha um bom dia, Vinicius \n",
      "Tenha um bom dia, Paulo \n",
      "Tenha um bom dia, Pedro \n"
     ]
    }
   ],
   "source": [
    "def saudacao() :\n",
    "    nome = input(' Escreva o seu nome: ')\n",
    "    print(f'Tenha um bom dia, {nome}')\n",
    "\n",
    "saudacao()\n",
    "saudacao()\n",
    "saudacao()"
   ]
  },
  {
   "cell_type": "code",
   "execution_count": 13,
   "metadata": {},
   "outputs": [
    {
     "name": "stdout",
     "output_type": "stream",
     "text": [
      "Tenha um bom dia, vinicius \n",
      "Tenha um bom dia, paulo \n",
      "Tenha um bom dia, pedro \n"
     ]
    }
   ],
   "source": [
    "def saudacao() :\n",
    "    nome = input(' Escreva o seu nome: ')\n",
    "    print(f'Tenha um bom dia, {nome}')\n",
    "for n in range(3):\n",
    "    saudacao()"
   ]
  },
  {
   "cell_type": "code",
   "execution_count": 11,
   "metadata": {},
   "outputs": [
    {
     "name": "stdout",
     "output_type": "stream",
     "text": [
      " Você paga R$ 3900.0 de imposto\n"
     ]
    }
   ],
   "source": [
    "def calcular():\n",
    "    inss= float(input('Insira o valor (R$) que você paga de INSS:'))\n",
    "    Ipva= float(input('Insira o valor que você paga de IPVA'))\n",
    "    Iptu= float(input('Insira o valor que você paga de IPTU'))\n",
    "    IR= float(input('Insira o valor que você paga de Imposto de renda'))\n",
    "    soma = inss + Ipva + Iptu + IR \n",
    "    print(f' Você paga R$ {soma} de imposto')\n",
    "calcular()"
   ]
  },
  {
   "cell_type": "code",
   "execution_count": 20,
   "metadata": {},
   "outputs": [
    {
     "data": {
      "text/plain": [
       "''"
      ]
     },
     "execution_count": 20,
     "metadata": {},
     "output_type": "execute_result"
    }
   ],
   "source": [
    "input()"
   ]
  },
  {
   "cell_type": "code",
   "execution_count": 33,
   "metadata": {},
   "outputs": [
    {
     "name": "stdout",
     "output_type": "stream",
     "text": [
      "--------------------\n",
      "SESI\n",
      "--------------------\n"
     ]
    }
   ],
   "source": [
    "def Linha():\n",
    "    print('-' * 20)\n",
    "def cabecalho(texto):\n",
    "    Linha()\n",
    "    print(texto)\n",
    "    Linha()\n",
    "cabecalho('SESI')"
   ]
  },
  {
   "cell_type": "code",
   "execution_count": 40,
   "metadata": {},
   "outputs": [
    {
     "name": "stdout",
     "output_type": "stream",
     "text": [
      " A soma de 4 + 10 é = 14\n",
      " A soma de 4.5 + 15.6 é = 20.1\n"
     ]
    }
   ],
   "source": [
    "def soma(n1, n2) :\n",
    "    res = n1 + n2 \n",
    "    print(f' A soma de {n1} + {n2} é = {res}')\n",
    "\n",
    "soma(4, 10)\n",
    "soma(4.5, 15.6)\n",
    "\n",
    "\n"
   ]
  },
  {
   "cell_type": "code",
   "execution_count": 48,
   "metadata": {},
   "outputs": [
    {
     "name": "stdout",
     "output_type": "stream",
     "text": [
      "32 É um número par\n",
      "22 É um número par\n"
     ]
    }
   ],
   "source": [
    "def parImpar(numero):\n",
    "    if numero %2 == 0:\n",
    "        print(f'{numero} É um número par')\n",
    "    else:\n",
    "        print(f'{numero} É um número impar')\n",
    "parImpar(32)\n",
    "parImpar(22)\n"
   ]
  },
  {
   "cell_type": "code",
   "execution_count": 52,
   "metadata": {},
   "outputs": [
    {
     "name": "stdout",
     "output_type": "stream",
     "text": [
      "9.0\n",
      "9.0\n"
     ]
    }
   ],
   "source": [
    "def media(n1, n2):\n",
    "    res = (n1 + n2) /2\n",
    "    return(res)\n",
    "\n",
    "# A variável resultado_media recebe o retorno da função media\n",
    "resultado_media = media(10, 8)\n",
    "print(resultado_media)\n",
    "print(media(10, 8))"
   ]
  },
  {
   "cell_type": "code",
   "execution_count": 55,
   "metadata": {},
   "outputs": [
    {
     "name": "stdout",
     "output_type": "stream",
     "text": [
      "7 x 0 = 0\n",
      "7 x 1 = 7\n",
      "7 x 2 = 14\n",
      "7 x 3 = 21\n",
      "7 x 4 = 28\n",
      "7 x 5 = 35\n",
      "7 x 6 = 42\n",
      "7 x 7 = 49\n",
      "7 x 8 = 56\n",
      "7 x 9 = 63\n",
      "7 x 10 = 70\n"
     ]
    }
   ],
   "source": [
    "def tabuada(nr):\n",
    "    for x in range(11):\n",
    "        print(f'{nr} x {x} = {nr*x}')\n",
    "\n",
    "tabuada(7)"
   ]
  },
  {
   "cell_type": "code",
   "execution_count": 83,
   "metadata": {},
   "outputs": [
    {
     "name": "stdout",
     "output_type": "stream",
     "text": [
      "2/07/2024\n"
     ]
    }
   ],
   "source": [
    "def FormatarData(dia, mes, ano):\n",
    "    if mes < 10:\n",
    "        return(f'{dia}/0{mes}/{ano}')\n",
    "    else:\n",
    "        return(f'{dia}/{mes}/{ano}')\n",
    "print(FormatarData(2, 7, 2024))\n",
    "\n",
    "\n",
    "    "
   ]
  },
  {
   "cell_type": "code",
   "execution_count": 70,
   "metadata": {},
   "outputs": [
    {
     "data": {
      "text/plain": [
       "'12/5/1947'"
      ]
     },
     "execution_count": 70,
     "metadata": {},
     "output_type": "execute_result"
    }
   ],
   "source": [
    "def FormatarData(dia, mes, ano):\n",
    "    data = (f'{dia}/{mes}/{ano}')\n",
    "    return(data)\n",
    "FormatarData(12, 5, 1947)    "
   ]
  },
  {
   "cell_type": "markdown",
   "metadata": {},
   "source": [
    ">12/04/2024 - Escopo de variáveis (Variável local e global)"
   ]
  },
  {
   "cell_type": "code",
   "execution_count": 6,
   "metadata": {},
   "outputs": [
    {
     "name": "stdout",
     "output_type": "stream",
     "text": [
      "Valor ANTES da função SENAI\n",
      "Valor dentro da função SESI\n",
      "Valor DEPOIS da função SENAI\n"
     ]
    }
   ],
   "source": [
    "\n",
    "def nomeescola() :\n",
    "    escola = 'SESI'\n",
    "    print(f'Valor dentro da função {escola}') # Variável local, apenas pode ser utilizada dentro da função\n",
    "\n",
    "escola = 'SENAI'\n",
    "print(f'Valor ANTES da função {escola}')\n",
    "nomeescola()\n",
    "print(f'Valor DEPOIS da função {escola}') \n",
    "\n",
    "\n"
   ]
  },
  {
   "cell_type": "code",
   "execution_count": 7,
   "metadata": {},
   "outputs": [
    {
     "name": "stdout",
     "output_type": "stream",
     "text": [
      "Valor ANTES da função SENAI\n",
      "Valor dentro da função SESI\n",
      "Valor DEPOIS da função SESI\n"
     ]
    }
   ],
   "source": [
    "def nomeescola():\n",
    "    #Caso eu queira atualizar o conteudo da variavel escola\n",
    "    #Preciso escrever que ela é global\n",
    "    global escola\n",
    "    escola ='SESI' # Alterando o valor da variavel global\n",
    "    print(f'Valor dentro da função {escola}')\n",
    "\n",
    "escola ='SENAI'\n",
    "print(f'Valor ANTES da função {escola}')\n",
    "nomeescola()\n",
    "print(f'Valor DEPOIS da função {escola}')\n"
   ]
  },
  {
   "cell_type": "code",
   "execution_count": 10,
   "metadata": {},
   "outputs": [
    {
     "name": "stdout",
     "output_type": "stream",
     "text": [
      "Fora da função 10\n",
      "Dentro da função 1\n",
      "Fora da função 10\n"
     ]
    }
   ],
   "source": [
    "x = 10  # X é uma variavel global \n",
    "# Podemos acessar x fora de uma função também\n",
    "print('Fora da função', x)\n",
    "\n",
    "def minhafuncao():\n",
    "    x = 0 # <- variável \n",
    "    x = x + 1 \n",
    "    print('Dentro da função', x)\n",
    "\n",
    "minhafuncao()\n",
    "print('Fora da função', x)\n",
    "\n"
   ]
  },
  {
   "cell_type": "code",
   "execution_count": 14,
   "metadata": {},
   "outputs": [
    {
     "name": "stdout",
     "output_type": "stream",
     "text": [
      "Fora da função 10\n",
      "Dentro da função 11\n",
      "Fora da função 11\n"
     ]
    }
   ],
   "source": [
    "x = 10  # X é uma variavel global \n",
    "# Podemos acessar x fora de uma função também\n",
    "print('Fora da função', x)\n",
    "\n",
    "def minhafuncao(): \n",
    "    '''\n",
    "        Aqui posso escrever a descrição do que faz a minha função \n",
    "    '''\n",
    "    global x #Dizendo que usaremos a variável x global\n",
    "    x = x + 1 \n",
    "    print('Dentro da função', x)\n",
    "\n",
    "minhafuncao()\n",
    "print('Fora da função', x)"
   ]
  },
  {
   "cell_type": "code",
   "execution_count": null,
   "metadata": {},
   "outputs": [],
   "source": [
    "def minha_funcao() :\n",
    "    '''\n",
    "        Aqui posso escrever toda a descrição da função, posso fazer varias linhas \n",
    "    '''"
   ]
  }
 ],
 "metadata": {
  "kernelspec": {
   "display_name": "Python 3",
   "language": "python",
   "name": "python3"
  },
  "language_info": {
   "codemirror_mode": {
    "name": "ipython",
    "version": 3
   },
   "file_extension": ".py",
   "mimetype": "text/x-python",
   "name": "python",
   "nbconvert_exporter": "python",
   "pygments_lexer": "ipython3",
   "version": "3.12.2"
  }
 },
 "nbformat": 4,
 "nbformat_minor": 2
}
