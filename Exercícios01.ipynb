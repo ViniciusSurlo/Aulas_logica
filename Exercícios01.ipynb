{
 "cells": [
  {
   "cell_type": "markdown",
   "metadata": {},
   "source": [
    "00 - Faça um programa que leia algo pelo teclado e mostre na\n",
    "tela o seu tipo primitivo."
   ]
  },
  {
   "cell_type": "code",
   "execution_count": 32,
   "metadata": {},
   "outputs": [
    {
     "name": "stdout",
     "output_type": "stream",
     "text": [
      "<class 'float'>\n"
     ]
    }
   ],
   "source": [
    "numero1=30.5\n",
    "numero2=13\n",
    "soma= numero1+numero2\n",
    "print(type (soma))"
   ]
  },
  {
   "cell_type": "code",
   "execution_count": 5,
   "metadata": {},
   "outputs": [
    {
     "name": "stdout",
     "output_type": "stream",
     "text": [
      "<class 'int'>\n"
     ]
    }
   ],
   "source": [
    "print(type (14))"
   ]
  },
  {
   "cell_type": "markdown",
   "metadata": {},
   "source": [
    "01 - Crie um programa que leia dois números e mostre a soma\n",
    "entre eles."
   ]
  },
  {
   "cell_type": "code",
   "execution_count": 33,
   "metadata": {},
   "outputs": [
    {
     "name": "stdout",
     "output_type": "stream",
     "text": [
      "20.0\n"
     ]
    }
   ],
   "source": [
    "numero1= float(input('insira um valor:'))\n",
    "numero2=float(input('insira um valor:'))\n",
    "soma= numero1 + numero2\n",
    "print (soma)"
   ]
  },
  {
   "cell_type": "markdown",
   "metadata": {},
   "source": [
    "02 - Crie um programa que leia um número inteiro e mostre na\n",
    "tela o seu sucessor e antecessor."
   ]
  },
  {
   "cell_type": "code",
   "execution_count": 25,
   "metadata": {},
   "outputs": [
    {
     "name": "stdout",
     "output_type": "stream",
     "text": [
      "o numero sucessor é 10, seu numero sucessor é 11, seu numero antecessor é 9\n"
     ]
    }
   ],
   "source": [
    "numero= int (input('insira um número:'))\n",
    "numero_sucessor= numero+1\n",
    "numero_antecessor= numero-1\n",
    "\n",
    "print (f'o numero sucessor é {numero}, seu numero sucessor é {numero_sucessor}, seu numero antecessor é {numero_antecessor}')"
   ]
  },
  {
   "cell_type": "markdown",
   "metadata": {},
   "source": [
    "03 - Crie um programa que leia um número e mostre o seu\n",
    "dobro, triplo e raiz quadrada."
   ]
  },
  {
   "cell_type": "code",
   "execution_count": 19,
   "metadata": {},
   "outputs": [
    {
     "name": "stdout",
     "output_type": "stream",
     "text": [
      "o número é 10.0, seu dobro é: 20.0, sua raiz quadrada é: 3.1622776601683795\n"
     ]
    }
   ],
   "source": [
    "numero= float(input('insira um número:'))\n",
    "dobro= numero*2\n",
    "triplo= numero*3\n",
    "raiz_quadrada= numero**0.5\n",
    "print(f'o número é {numero}, seu dobro é: {dobro}, sua raiz quadrada é: {raiz_quadrada}')"
   ]
  },
  {
   "cell_type": "markdown",
   "metadata": {},
   "source": [
    "04 - Crie um programa que leia duas notas de um aluno, calcule\n",
    "e mostre sua média."
   ]
  },
  {
   "cell_type": "code",
   "execution_count": 34,
   "metadata": {},
   "outputs": [
    {
     "name": "stdout",
     "output_type": "stream",
     "text": [
      "o resultado da média é 9.5\n"
     ]
    }
   ],
   "source": [
    "nota1= float(input('insira a primeira nota do aluno:'))\n",
    "nota2= float(input('insira a segunda nota do aluno:'))\n",
    "media= ((nota1+nota2)/2)\n",
    "print(f'o resultado da média é {media}')"
   ]
  },
  {
   "cell_type": "markdown",
   "metadata": {},
   "source": [
    "05 - Crie um programa que leia o valor em metros e o exiba\n",
    "convertido em centímetros e milímetros."
   ]
  },
  {
   "cell_type": "code",
   "execution_count": 23,
   "metadata": {},
   "outputs": [
    {
     "name": "stdout",
     "output_type": "stream",
     "text": [
      "o valor em metros é: 1.0, o valor em centímetros é: 100.0, o valor em milímetros: 1000.0\n"
     ]
    }
   ],
   "source": [
    "valor_metros= float(input('insira o valor em metros:'))\n",
    "valor_centimetros= valor_metros * 100\n",
    "valor_milimetros= valor_metros* 1000\n",
    "print(f'o valor em metros é: {valor_metros}, o valor em centímetros é: {valor_centimetros}, o valor em milímetros: {valor_milimetros}')"
   ]
  },
  {
   "cell_type": "markdown",
   "metadata": {},
   "source": [
    "06 - Crie um programa que leia um numero qualquer e mostre\n",
    "na tela a sua tabuada."
   ]
  },
  {
   "cell_type": "code",
   "execution_count": 32,
   "metadata": {},
   "outputs": [
    {
     "name": "stdout",
     "output_type": "stream",
     "text": [
      "Tabuada X 1 20\n",
      "Tabuada X 2 40\n",
      "Tabuada X 3 60\n",
      "Tabuada X 4 80\n",
      "Tabuada X 5 100\n",
      "Tabuada X 6 120\n",
      "Tabuada X 7 140\n",
      "Tabuada X 8 160\n",
      "Tabuada X 9 180\n",
      "Tabuada X 10 200\n"
     ]
    }
   ],
   "source": [
    "numero= int (input('digite um número:'))\n",
    "print (f'Tabuada X 1 {numero*1}')\n",
    "print (f'Tabuada X 2 {numero*2}')\n",
    "print (f'Tabuada X 3 {numero*3}')\n",
    "print (f'Tabuada X 4 {numero*4}')\n",
    "print (f'Tabuada X 5 {numero*5}')\n",
    "print (f'Tabuada X 6 {numero*6}')\n",
    "print (f'Tabuada X 7 {numero*7}')\n",
    "print (f'Tabuada X 8 {numero*8}')\n",
    "print (f'Tabuada X 9 {numero*9}')\n",
    "print (f'Tabuada X 10 {numero*10}')\n"
   ]
  },
  {
   "cell_type": "markdown",
   "metadata": {},
   "source": [
    "07 - Crie um programa que leia quanto dinheiro a pessoa tem na\n",
    "carteira e mostre quantos dólares ela pode contar."
   ]
  },
  {
   "cell_type": "code",
   "execution_count": 46,
   "metadata": {},
   "outputs": [
    {
     "name": "stdout",
     "output_type": "stream",
     "text": [
      "você possuí R$ 10.0, a conversão a dolar é: R$ 2.004\n"
     ]
    }
   ],
   "source": [
    "dinheiro_atual= float(input('quantos reais você tem:'))\n",
    "conversao_dolar= dinheiro_atual/4.99\n",
    "print(f'você possuí R$ {dinheiro_atual}, a conversão a dolar é: R$ {conversao_dolar:.3f}')"
   ]
  },
  {
   "cell_type": "markdown",
   "metadata": {},
   "source": [
    "08 - Crie um programa que leia a largura e a altura de uma\n",
    "parede em metros, calcule a sua área e a quantidade de tinta\n",
    "necessária para pintá-lo, sabendo que cada litro de tinta pinta\n",
    "uma área de 2m2."
   ]
  },
  {
   "cell_type": "code",
   "execution_count": 43,
   "metadata": {},
   "outputs": [
    {
     "name": "stdout",
     "output_type": "stream",
     "text": [
      "A altura da parede é de 10.0 metros, sua largura é 30.0 metros, sua área é de: 300.0 metros, a quantidade de tinta necessária é de: 150.0 litros\n"
     ]
    }
   ],
   "source": [
    "altura= float(input('insira a altura da parede:'))\n",
    "largura= float(input('insira a largura da parede:'))\n",
    "Area= altura*largura\n",
    "litro= Area/2\n",
    "print(f'A altura da parede é de {altura} metros, sua largura é {largura} metros, sua área é de: {Area} metros, a quantidade de tinta necessária é de: {litro} litros')\n"
   ]
  },
  {
   "cell_type": "markdown",
   "metadata": {},
   "source": [
    "09 - Faça um algoritmo que leia o preço do produto e mostre\n",
    "seu novo preço com 5% de desconto."
   ]
  },
  {
   "cell_type": "code",
   "execution_count": 2,
   "metadata": {},
   "outputs": [
    {
     "name": "stdout",
     "output_type": "stream",
     "text": [
      "o valor do produto era:1000.0, com o desconto de 5% o valor ficou de: 50.0\n"
     ]
    }
   ],
   "source": [
    "preco_produto= float(input('insira o preço do produto:'))\n",
    "novo_proco= preco_produto*0.05\n",
    "print(f'o valor do produto era:{preco_produto}, com o desconto de 5% o valor ficou de: {novo_proco}')"
   ]
  },
  {
   "cell_type": "markdown",
   "metadata": {},
   "source": [
    "10 - Faça um algoritmo que leia o salário do funcionário e\n",
    "mostre seu novo salário com 15% de aumento."
   ]
  },
  {
   "cell_type": "code",
   "execution_count": 12,
   "metadata": {},
   "outputs": [
    {
     "name": "stdout",
     "output_type": "stream",
     "text": [
      "o valor do seu salário era: R$ 1000.0, com o aumento de 15% o salário agora é de:\n",
      "1150.0\n"
     ]
    }
   ],
   "source": [
    "salario= float(input('insira o valor do seu salário:'))\n",
    "aumento= (salario * 15)/100\n",
    "print(f'o valor do seu salário era: R$ {salario}, com o aumento de 15% o salário agora é de:')\n",
    "salario= salario+aumento\n",
    "print(f'{salario}')"
   ]
  },
  {
   "cell_type": "markdown",
   "metadata": {},
   "source": [
    "11 - Faça um algoritmo que receba um valor em graus Celsius e\n",
    "converta para farenheit."
   ]
  },
  {
   "cell_type": "code",
   "execution_count": 13,
   "metadata": {},
   "outputs": [
    {
     "name": "stdout",
     "output_type": "stream",
     "text": [
      "o valor em Graus Celsius é: 30.0º, sua conversão para farenheit é:86.0º\n"
     ]
    }
   ],
   "source": [
    "graus_celsius= float(input('insira o valor em Graus celsius:'))\n",
    "conversao= graus_celsius*1.8+32\n",
    "print(f'o valor em Graus Celsius é: {graus_celsius}º, sua conversão para farenheit é:{conversao}º')"
   ]
  },
  {
   "cell_type": "markdown",
   "metadata": {},
   "source": [
    "12 - Faça um algoritmo que pergunte a quantidade de km\n",
    "percorridos por um carro alugado e a quantidade de dias pelos\n",
    "quais ele foi alugado. Calcule o preço a pagar, sabendo que o\n",
    "carro custa R$60 por dia e R$0.15 por km rodado."
   ]
  },
  {
   "cell_type": "code",
   "execution_count": 53,
   "metadata": {},
   "outputs": [
    {
     "name": "stdout",
     "output_type": "stream",
     "text": [
      "A quantidade de Km rodado foi de 37.0, os dias em que os carro foi utilizado foi de: 10, o total a pagar é: R$ 605.55\n"
     ]
    }
   ],
   "source": [
    "km= float(input('insira a quantidade de KM rodados:'))\n",
    "dias= int(input('insira a quantidade de dias em que o carro foi utilizado:'))\n",
    "pagar= (dias*60)+(km*0.15)\n",
    "print(f'A quantidade de Km rodado foi de {km}, os dias em que os carro foi utilizado foi de: {dias}, o total a pagar é: R$ {pagar:.2f}')"
   ]
  },
  {
   "cell_type": "code",
   "execution_count": 49,
   "metadata": {},
   "outputs": [
    {
     "data": {
      "text/plain": [
       "['rock', 'paper', 'scisorrs']"
      ]
     },
     "execution_count": 49,
     "metadata": {},
     "output_type": "execute_result"
    }
   ],
   "source": [
    "\n",
    "def choice():\n",
    "    player_choice= ['rock', 'paper', 'scisorrs']\n",
    "    computer_choice= ['rock', 'paper', 'scisorrs']\n",
    "    return computer_choice\n",
    " \n",
    "choice()\n"
   ]
  }
 ],
 "metadata": {
  "kernelspec": {
   "display_name": "Python 3",
   "language": "python",
   "name": "python3"
  },
  "language_info": {
   "codemirror_mode": {
    "name": "ipython",
    "version": 3
   },
   "file_extension": ".py",
   "mimetype": "text/x-python",
   "name": "python",
   "nbconvert_exporter": "python",
   "pygments_lexer": "ipython3",
   "version": "3.12.2"
  }
 },
 "nbformat": 4,
 "nbformat_minor": 2
}
