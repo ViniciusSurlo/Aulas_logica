{
 "cells": [
  {
   "cell_type": "markdown",
   "metadata": {},
   "source": [
    "1. Crie uma lista de filmes com 7 filmes a sua escolha, e faça as seguintes operações com ela:\n",
    "• Exiba apenas o primeiro o filme da lista\n",
    "• Exiba o filme da posição 4\n",
    "• Substitua o filme da última posição e exiba a lista\n",
    "• Insira um novo filme no final da lista e exiba a lista\n",
    "• Insira um novo filme na posição 5 e exiba a lista\n",
    "• Exclua o primeiro filme e exiba a lista\n",
    "• Exclua o último filme e exiba a lista\n",
    "• Exiba os 3 primeiros filmes da lista\n",
    "• Exiba os 4 últimos filmes da lista\n",
    "• Exiba a quantidade de filmes atualmente na lista\n",
    "• Ordene os filmes em ordem decrescente e exiba-os"
   ]
  },
  {
   "cell_type": "code",
   "execution_count": null,
   "metadata": {},
   "outputs": [],
   "source": [
    "filmes = ['Gladiador', 'Forrest Gump', 'Batman', 'Os bons companheiros', 'Rocky Balboa', 'Poderoso Chefão', 'Até o ultimo homem']\n",
    "\n"
   ]
  },
  {
   "cell_type": "markdown",
   "metadata": {},
   "source": [
    "1. Crie uma lista de filmes com 7 filmes a sua escolha, e faça as seguintes operações com ela:\n",
    "• Exiba apenas o primeiro o filme da lista"
   ]
  },
  {
   "cell_type": "code",
   "execution_count": 2,
   "metadata": {},
   "outputs": [
    {
     "name": "stdout",
     "output_type": "stream",
     "text": [
      "Gladiador\n"
     ]
    }
   ],
   "source": [
    "filmes = ['Gladiador', 'Forrest Gump', 'Batman', 'Os bons companheiros', 'Rocky Balboa', 'Poderoso Chefão', 'Até o ultimo homem']\n",
    "print(filmes [0])"
   ]
  },
  {
   "cell_type": "markdown",
   "metadata": {},
   "source": [
    "• Exiba o filme da posição 4"
   ]
  },
  {
   "cell_type": "code",
   "execution_count": 3,
   "metadata": {},
   "outputs": [
    {
     "name": "stdout",
     "output_type": "stream",
     "text": [
      "Rocky Balboa\n"
     ]
    }
   ],
   "source": [
    "filmes = ['Gladiador', 'Forrest Gump', 'Batman', 'Os bons companheiros', 'Rocky Balboa', 'Poderoso Chefão', 'Até o ultimo homem']\n",
    "print(filmes [4])"
   ]
  },
  {
   "cell_type": "markdown",
   "metadata": {},
   "source": [
    " Substitua o filme da última posição e exiba a lista"
   ]
  },
  {
   "cell_type": "code",
   "execution_count": 4,
   "metadata": {},
   "outputs": [
    {
     "name": "stdout",
     "output_type": "stream",
     "text": [
      "['Gladiador', 'Forrest Gump', 'Batman', 'Os bons companheiros', 'Rocky Balboa', 'Poderoso Chefão', 'Coração Valente']\n"
     ]
    }
   ],
   "source": [
    "filmes = ['Gladiador', 'Forrest Gump', 'Batman', 'Os bons companheiros', 'Rocky Balboa', 'Poderoso Chefão', 'Até o ultimo homem']\n",
    "filmes[6] = 'Coração Valente'\n",
    "print(filmes)"
   ]
  },
  {
   "cell_type": "markdown",
   "metadata": {},
   "source": [
    " Insira um novo filme na posição 5 e exiba a lista"
   ]
  },
  {
   "cell_type": "code",
   "execution_count": 5,
   "metadata": {},
   "outputs": [
    {
     "name": "stdout",
     "output_type": "stream",
     "text": [
      "['Gladiador', 'Forrest Gump', 'Batman', 'Os bons companheiros', 'Rocky Balboa', 'Resgate do soldado Ryan', 'Poderoso Chefão', 'Coração Valente']\n"
     ]
    }
   ],
   "source": [
    "filmes.insert(5, 'Resgate do soldado Ryan')\n",
    "print(filmes)"
   ]
  },
  {
   "cell_type": "markdown",
   "metadata": {},
   "source": [
    " Exclua o primeiro filme e exiba a lista"
   ]
  },
  {
   "cell_type": "code",
   "execution_count": 6,
   "metadata": {},
   "outputs": [
    {
     "name": "stdout",
     "output_type": "stream",
     "text": [
      "['Forrest Gump', 'Batman', 'Os bons companheiros', 'Rocky Balboa', 'Poderoso Chefão', 'Até o ultimo homem']\n"
     ]
    }
   ],
   "source": [
    "filmes = ['Gladiador', 'Forrest Gump', 'Batman', 'Os bons companheiros', 'Rocky Balboa', 'Poderoso Chefão', 'Até o ultimo homem']\n",
    "del filmes[0]\n",
    "print(filmes)"
   ]
  },
  {
   "cell_type": "markdown",
   "metadata": {},
   "source": [
    "• Exclua o último filme e exiba a lista"
   ]
  },
  {
   "cell_type": "code",
   "execution_count": 9,
   "metadata": {},
   "outputs": [
    {
     "name": "stdout",
     "output_type": "stream",
     "text": [
      "['Gladiador', 'Forrest Gump', 'Batman', 'Os bons companheiros', 'Rocky Balboa', 'Poderoso Chefão']\n"
     ]
    }
   ],
   "source": [
    "filmes = ['Gladiador', 'Forrest Gump', 'Batman', 'Os bons companheiros', 'Rocky Balboa', 'Poderoso Chefão', 'Até o ultimo homem']\n",
    "del filmes[6]\n",
    "print(filmes)"
   ]
  },
  {
   "cell_type": "markdown",
   "metadata": {},
   "source": [
    "• Exiba os 3 primeiros filmes da lista"
   ]
  },
  {
   "cell_type": "code",
   "execution_count": 12,
   "metadata": {},
   "outputs": [
    {
     "name": "stdout",
     "output_type": "stream",
     "text": [
      "['Gladiador', 'Forrest Gump', 'Batman']\n"
     ]
    }
   ],
   "source": [
    "filmes = ['Gladiador', 'Forrest Gump', 'Batman', 'Os bons companheiros', 'Rocky Balboa', 'Poderoso Chefão', 'Até o ultimo homem']\n",
    "print( filmes [0:3])"
   ]
  },
  {
   "cell_type": "markdown",
   "metadata": {},
   "source": [
    "• Exiba os 4 últimos filmes da lista"
   ]
  },
  {
   "cell_type": "code",
   "execution_count": 17,
   "metadata": {},
   "outputs": [
    {
     "name": "stdout",
     "output_type": "stream",
     "text": [
      "['Os bons companheiros', 'Rocky Balboa', 'Poderoso Chefão', 'Até o ultimo homem']\n"
     ]
    }
   ],
   "source": [
    "filmes = ['Gladiador', 'Forrest Gump', 'Batman', 'Os bons companheiros', 'Rocky Balboa', 'Poderoso Chefão', 'Até o ultimo homem']\n",
    "print(filmes [3: 7])"
   ]
  },
  {
   "cell_type": "markdown",
   "metadata": {},
   "source": [
    "• Exiba a quantidade de filmes atualmente na lista"
   ]
  },
  {
   "cell_type": "code",
   "execution_count": 18,
   "metadata": {},
   "outputs": [
    {
     "name": "stdout",
     "output_type": "stream",
     "text": [
      "7\n"
     ]
    }
   ],
   "source": [
    "filmes = ['Gladiador', 'Forrest Gump', 'Batman', 'Os bons companheiros', 'Rocky Balboa', 'Poderoso Chefão', 'Até o ultimo homem']\n",
    "print(len(filmes))"
   ]
  },
  {
   "cell_type": "markdown",
   "metadata": {},
   "source": [
    "• Ordene os filmes em ordem decrescente e exiba-os"
   ]
  },
  {
   "cell_type": "code",
   "execution_count": 19,
   "metadata": {},
   "outputs": [
    {
     "name": "stdout",
     "output_type": "stream",
     "text": [
      "['Até o ultimo homem', 'Poderoso Chefão', 'Rocky Balboa', 'Os bons companheiros', 'Batman', 'Forrest Gump', 'Gladiador']\n"
     ]
    }
   ],
   "source": [
    "filmes = ['Gladiador', 'Forrest Gump', 'Batman', 'Os bons companheiros', 'Rocky Balboa', 'Poderoso Chefão', 'Até o ultimo homem']\n",
    "filmes.reverse()\n",
    "print(filmes)"
   ]
  },
  {
   "cell_type": "markdown",
   "metadata": {},
   "source": [
    "2. Crie uma lista com os 20 times do campeonato brasileiro de futebol\n",
    "• Exiba o primeiro time da lista como campeão\n",
    "• Exiba os 4 primeiros times como que irão jogar a libertadores\n",
    "• Exiba os 4 últimos times como os que estão rebaixados para a série B"
   ]
  },
  {
   "cell_type": "code",
   "execution_count": 24,
   "metadata": {},
   "outputs": [
    {
     "name": "stdout",
     "output_type": "stream",
     "text": [
      "20\n"
     ]
    }
   ],
   "source": [
    "times = ['Corinthians', 'São Paulo', 'Palmeiras', 'Flamengo', 'Botafogo', 'Fluminense', 'Cruzeiro', 'Atletico Mineiro', 'Vasco da Gama', 'Santos', 'Bragantino', 'Grêmio', 'Internacional', 'Atletico Paranaense', 'Fortaleza', 'Vitória', 'Bahia', 'Cuíba', 'Goias', 'Coritiba']\n"
   ]
  },
  {
   "cell_type": "markdown",
   "metadata": {},
   "source": [
    "• Exiba o primeiro time da lista como campeão"
   ]
  },
  {
   "cell_type": "code",
   "execution_count": 26,
   "metadata": {},
   "outputs": [
    {
     "name": "stdout",
     "output_type": "stream",
     "text": [
      " O campeão é o Corinthians\n"
     ]
    }
   ],
   "source": [
    "times = ['Corinthians', 'São Paulo', 'Palmeiras', 'Flamengo', 'Botafogo', 'Fluminense', 'Cruzeiro', 'Atletico Mineiro', 'Vasco da Gama', 'Santos', 'Bragantino', 'Grêmio', 'Internacional', 'Atletico Paranaense', 'Fortaleza', 'Vitória', 'Bahia', 'Cuíba', 'Goias', 'Coritiba']\n",
    "print(f' O campeão é o {times [0]}')"
   ]
  },
  {
   "cell_type": "markdown",
   "metadata": {},
   "source": [
    "• Exiba os 4 primeiros times como que irão jogar a libertadores"
   ]
  },
  {
   "cell_type": "code",
   "execution_count": 28,
   "metadata": {},
   "outputs": [
    {
     "name": "stdout",
     "output_type": "stream",
     "text": [
      " Os times que irão jogar a libertadores serão: ['Corinthians', 'São Paulo', 'Palmeiras', 'Flamengo']\n"
     ]
    }
   ],
   "source": [
    "times = ['Corinthians', 'São Paulo', 'Palmeiras', 'Flamengo', 'Botafogo', 'Fluminense', 'Cruzeiro', 'Atletico Mineiro', 'Vasco da Gama', 'Santos', 'Bragantino', 'Grêmio', 'Internacional', 'Atletico Paranaense', 'Fortaleza', 'Vitória', 'Bahia', 'Cuíba', 'Goias', 'Coritiba']\n",
    "print(f' Os times que irão jogar a libertadores serão: {times [0:4]}')"
   ]
  },
  {
   "cell_type": "markdown",
   "metadata": {},
   "source": [
    "• Exiba os 4 últimos times como os que estão rebaixados para a série B"
   ]
  },
  {
   "cell_type": "code",
   "execution_count": 39,
   "metadata": {},
   "outputs": [
    {
     "name": "stdout",
     "output_type": "stream",
     "text": [
      " Serão rebaixados: ['Bahia', 'Cuíba', 'Goias', 'Coritiba']\n"
     ]
    }
   ],
   "source": [
    "times = ['Corinthians', 'São Paulo', 'Palmeiras', 'Flamengo', 'Botafogo', 'Fluminense', 'Cruzeiro', 'Atletico Mineiro', 'Vasco da Gama', 'Santos', 'Bragantino', 'Grêmio', 'Internacional', 'Atletico Paranaense', 'Fortaleza', 'Vitória', 'Bahia', 'Cuíba', 'Goias', 'Coritiba']\n",
    "print(f' Serão rebaixados: {times [-4:]}')"
   ]
  },
  {
   "cell_type": "markdown",
   "metadata": {},
   "source": [
    "3. Crie um programa que receba do usuário através do input 6 comidas e refaça todos\n",
    "os itens do exercício 1"
   ]
  },
  {
   "cell_type": "code",
   "execution_count": 54,
   "metadata": {},
   "outputs": [
    {
     "name": "stdout",
     "output_type": "stream",
     "text": [
      "['feijão ', 'file', 'arroz ', 'ovo', 'macarrão ']\n"
     ]
    }
   ],
   "source": [
    "comidas = []\n",
    "for x in range(1, 7):\n",
    "    comidasresposta = input('insira 6 comidas')\n",
    "    comidas.append(comidasresposta)\n",
    "    \n",
    "print(comidas)\n",
    "\n"
   ]
  },
  {
   "cell_type": "markdown",
   "metadata": {},
   "source": [
    "• Exiba apenas o primeiro o filme da lista\n",
    "• Exiba o filme da posição 4\n",
    "• Substitua o filme da última posição e exiba a lista\n",
    "• Insira um novo filme no final da lista e exiba a lista\n",
    "• Insira um novo filme na posição 5 e exiba a lista\n",
    "• Exclua o primeiro filme e exiba a lista\n",
    "• Exclua o último filme e exiba a lista\n",
    "• Exiba os 3 primeiros filmes da lista\n",
    "• Exiba os 4 últimos filmes da lista\n",
    "• Exiba a quantidade de filmes atualmente na lista\n",
    "• Ordene os filmes em ordem decrescente e exiba-os"
   ]
  },
  {
   "cell_type": "markdown",
   "metadata": {},
   "source": [
    "• Exiba apenas o primeiro da lista"
   ]
  },
  {
   "cell_type": "code",
   "execution_count": 55,
   "metadata": {},
   "outputs": [
    {
     "name": "stdout",
     "output_type": "stream",
     "text": [
      "file\n"
     ]
    }
   ],
   "source": [
    "comidas = []\n",
    "for x in range(1, 7):\n",
    "    comidasresposta = input('insira 6 comidas')\n",
    "    comidas.append(comidasresposta)\n",
    "print(comidas[0])\n"
   ]
  },
  {
   "cell_type": "markdown",
   "metadata": {},
   "source": [
    "• Exiba a comida da posição 4"
   ]
  },
  {
   "cell_type": "code",
   "execution_count": 56,
   "metadata": {},
   "outputs": [
    {
     "name": "stdout",
     "output_type": "stream",
     "text": [
      "churrasco \n"
     ]
    }
   ],
   "source": [
    "comidas = []\n",
    "for x in range(1, 7):\n",
    "    comidasresposta = input('insira 6 comidas')\n",
    "    comidas.append(comidasresposta)\n",
    "print(comidas[4])"
   ]
  },
  {
   "cell_type": "markdown",
   "metadata": {},
   "source": [
    "• Substitua o filme da última posição e exiba a lista"
   ]
  },
  {
   "cell_type": "code",
   "execution_count": 61,
   "metadata": {},
   "outputs": [
    {
     "name": "stdout",
     "output_type": "stream",
     "text": [
      "['feijão ', 'lasanha ', 'file ', 'feijoada', 'churrasco', 'arroz']\n"
     ]
    }
   ],
   "source": [
    "comidas = []\n",
    "for x in range(1, 7):\n",
    "    comidasresposta = input('insira 6 comidas')\n",
    "    comidas.append(comidasresposta)\n",
    "comidas [5] = 'arroz'\n",
    "print(comidas)"
   ]
  },
  {
   "cell_type": "markdown",
   "metadata": {},
   "source": [
    "• Insira um novo filme no final da lista e exiba a lista"
   ]
  },
  {
   "cell_type": "code",
   "execution_count": null,
   "metadata": {},
   "outputs": [],
   "source": [
    "comidas = []\n",
    "for x in range(1, 7):\n",
    "    comidasresposta = input('insira 6 comidas')\n",
    "    comidas.append(comidasresposta)\n",
    "comidas.append('strogonof')"
   ]
  },
  {
   "cell_type": "markdown",
   "metadata": {},
   "source": [
    "• Insira um novo filme na posição 5 e exiba a lista"
   ]
  },
  {
   "cell_type": "code",
   "execution_count": 3,
   "metadata": {},
   "outputs": [
    {
     "name": "stdout",
     "output_type": "stream",
     "text": [
      "['ovo', 'feijão ', 'maça', 'laranja ', 'uva ', 'Strogonof', 'banana']\n"
     ]
    }
   ],
   "source": [
    "comidas = []\n",
    "for x in range(1, 7):\n",
    "    comidasresposta = input('insira 6 comidas')\n",
    "    comidas.append(comidasresposta)\n",
    "comidas.insert(5, 'Strogonof')\n",
    "print(comidas)"
   ]
  },
  {
   "cell_type": "markdown",
   "metadata": {},
   "source": [
    "• Exclua o primeiro filme e exiba a lista"
   ]
  },
  {
   "cell_type": "code",
   "execution_count": 1,
   "metadata": {},
   "outputs": [
    {
     "name": "stdout",
     "output_type": "stream",
     "text": [
      "['uva', 'maça', 'tomate', 'banana', 'laranja ']\n"
     ]
    }
   ],
   "source": [
    "comidas = []\n",
    "for x in range(1, 7):\n",
    "    comidasresposta = input('insira 6 comidas')\n",
    "    comidas.append(comidasresposta)\n",
    "del comidas[0]\n",
    "print(comidas)"
   ]
  },
  {
   "cell_type": "markdown",
   "metadata": {},
   "source": [
    "• Exclua o último filme e exiba a lista"
   ]
  },
  {
   "cell_type": "code",
   "execution_count": null,
   "metadata": {},
   "outputs": [],
   "source": [
    "comidas = []\n",
    "for x in range(1, 7):\n",
    "    comidasresposta = input('insira 6 comidas')\n",
    "    comidas.append(comidasresposta)\n",
    "del comidas[6]\n",
    "print(comidas)"
   ]
  },
  {
   "cell_type": "markdown",
   "metadata": {},
   "source": [
    "• Exiba os 3 primeiros filmes da lista"
   ]
  },
  {
   "cell_type": "code",
   "execution_count": null,
   "metadata": {},
   "outputs": [],
   "source": [
    "comidas = []\n",
    "for x in range(1, 7):\n",
    "    comidasresposta = input('insira 6 comidas')\n",
    "    comidas.append(comidasresposta)\n",
    "print(comidas [0: 3])"
   ]
  },
  {
   "cell_type": "markdown",
   "metadata": {},
   "source": [
    "• Exiba os 4 últimos filmes da lista"
   ]
  },
  {
   "cell_type": "code",
   "execution_count": null,
   "metadata": {},
   "outputs": [],
   "source": [
    "comidas = []\n",
    "for x in range(1, 7):\n",
    "    comidasresposta = input('insira 6 comidas')\n",
    "    comidas.append(comidasresposta)\n",
    "print(comidas [-4:])"
   ]
  },
  {
   "cell_type": "markdown",
   "metadata": {},
   "source": [
    "• Exiba a quantidade de filmes atualmente na lista"
   ]
  },
  {
   "cell_type": "code",
   "execution_count": null,
   "metadata": {},
   "outputs": [],
   "source": [
    "comidas = []\n",
    "for x in range(1, 7):\n",
    "    comidasresposta = input('insira 6 comidas')\n",
    "    comidas.append(comidasresposta)\n",
    "print(len (comidas))"
   ]
  },
  {
   "cell_type": "markdown",
   "metadata": {},
   "source": [
    "• Ordene os filmes em ordem decrescente e exiba-os"
   ]
  },
  {
   "cell_type": "code",
   "execution_count": null,
   "metadata": {},
   "outputs": [],
   "source": [
    "comidas = []\n",
    "for x in range(1, 7):\n",
    "    comidasresposta = input('insira 6 comidas')\n",
    "    comidas.append(comidasresposta)\n",
    "comidas.reverse()\n",
    "print(comidas)"
   ]
  }
 ],
 "metadata": {
  "kernelspec": {
   "display_name": "Python 3",
   "language": "python",
   "name": "python3"
  },
  "language_info": {
   "codemirror_mode": {
    "name": "ipython",
    "version": 3
   },
   "file_extension": ".py",
   "mimetype": "text/x-python",
   "name": "python",
   "nbconvert_exporter": "python",
   "pygments_lexer": "ipython3",
   "version": "3.12.2"
  }
 },
 "nbformat": 4,
 "nbformat_minor": 2
}
