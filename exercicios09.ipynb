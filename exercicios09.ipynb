{
 "cells": [
  {
   "cell_type": "markdown",
   "metadata": {},
   "source": [
    "> Crie uma função sem parametro "
   ]
  },
  {
   "cell_type": "code",
   "execution_count": 81,
   "metadata": {},
   "outputs": [
    {
     "name": "stdout",
     "output_type": "stream",
     "text": [
      "**************************************************\n",
      "Boas vindas\n",
      "**************************************************\n",
      "Boas vindas\n",
      "**************************************************\n",
      "Boas vindas\n",
      "**************************************************\n",
      "Boas vindas\n"
     ]
    }
   ],
   "source": [
    "def linha():\n",
    "    print('*' * 50)\n",
    "    print('Boas vindas')\n",
    "\n",
    "linha()\n",
    "linha()\n",
    "linha()\n",
    "linha()"
   ]
  },
  {
   "cell_type": "markdown",
   "metadata": {},
   "source": [
    "2. Crie uma função que contenha uma lista com as cores primárias e exiba cada cor em uma\n",
    "linha"
   ]
  },
  {
   "cell_type": "code",
   "execution_count": 116,
   "metadata": {},
   "outputs": [
    {
     "name": "stdout",
     "output_type": "stream",
     "text": [
      "azul\n",
      "amarelo\n",
      "vermelho\n"
     ]
    }
   ],
   "source": [
    "def cores():\n",
    "    cores =['azul', 'amarelo', 'vermelho']\n",
    "    for cor in cores:\n",
    "        print(cor)\n",
    "cores() \n",
    "    "
   ]
  },
  {
   "cell_type": "code",
   "execution_count": 178,
   "metadata": {},
   "outputs": [
    {
     "data": {
      "text/plain": [
       "'verdebrancoamarelo'"
      ]
     },
     "execution_count": 178,
     "metadata": {},
     "output_type": "execute_result"
    }
   ],
   "source": [
    "def cores(numero):\n",
    "    cor = []\n",
    "    cores =['azul', 'amarelo', 'vermelho', 'verde', 'branco', 'marron']\n",
    "    coresescolhidas = ''\n",
    "    import random\n",
    "    for x in range (numero):\n",
    "        coresescolhidas += random.choice(cores)\n",
    "        cor.append(coresescolhidas)\n",
    "        cor.insert(2, 'e')\n",
    "    return(coresescolhidas)\n",
    "cores(3) "
   ]
  },
  {
   "cell_type": "markdown",
   "metadata": {},
   "source": [
    "3. Crie uma função que recebe um número como parâmetro e exiba a tabuada até o 10, chame\n",
    "essa função por 3 vezes enviando parâmetros diferentes"
   ]
  },
  {
   "cell_type": "code",
   "execution_count": 166,
   "metadata": {},
   "outputs": [
    {
     "name": "stdout",
     "output_type": "stream",
     "text": [
      "2 x 1 = 2\n",
      "2 x 2 = 4\n",
      "2 x 3 = 6\n",
      "2 x 4 = 8\n",
      "2 x 5 = 10\n",
      "2 x 6 = 12\n",
      "2 x 7 = 14\n",
      "2 x 8 = 16\n",
      "2 x 9 = 18\n",
      "2 x 10 = 20\n"
     ]
    }
   ],
   "source": [
    "def tabuada(numero):\n",
    "    for x in range(1, 11):\n",
    "        print(f'{numero} x {x} = {numero * x}')\n",
    "tabuada(2)\n",
    "    "
   ]
  },
  {
   "cell_type": "markdown",
   "metadata": {},
   "source": [
    "4. Crie uma função que receba 2 números e o operador matemático para realizar a operação\n",
    "(Ex. envio os parâmetros 2 e 5 e *, fazer a multiplicação), tratar as operações + - * / **"
   ]
  },
  {
   "cell_type": "code",
   "execution_count": 185,
   "metadata": {},
   "outputs": [
    {
     "name": "stdout",
     "output_type": "stream",
     "text": [
      "10 - 22 = -12\n"
     ]
    }
   ],
   "source": [
    "def calculadora(nr1, nr2, operador):\n",
    "    if operador == '+':\n",
    "        print(f'{nr1} {operador} {nr2} = {nr1 + nr2}')\n",
    "    elif operador == '-':\n",
    "        print(f'{nr1} {operador} {nr2} = {nr1 - nr2}')\n",
    "    elif operador == '*':\n",
    "        print(f'{nr1} {operador} {nr2} = {nr1 * nr2}')\n",
    "    elif operador == '/':\n",
    "        print(f'{nr1} {operador} {nr2} = {nr1 / nr2}')\n",
    "    elif operador == '**':\n",
    "        print(f'{nr1} {operador} {nr2} = {nr1 ** nr2}')\n",
    "calculadora(10, 22, '-')\n",
    "\n",
    "\n"
   ]
  },
  {
   "cell_type": "code",
   "execution_count": 187,
   "metadata": {},
   "outputs": [],
   "source": [
    "def calculadora(n1, n2, operador):\n",
    "    if operador == '+':\n",
    "       res = n1 + n2\n",
    "    if operador == '-':\n",
    "       res = n1 - n2\n",
    "    if operador == '*':\n",
    "       res = n1 * n2\n",
    "    if operador == '/':\n",
    "       res = n1 / n2\n",
    "    if operador == '**':\n",
    "       res = n1 ** n2\n",
    "    return(res)\n",
    "calculadora(10)\n"
   ]
  },
  {
   "cell_type": "markdown",
   "metadata": {},
   "source": [
    "5. Crie uma função que gere uma senha aleatória, deve receber como parâmetro a quantidade\n",
    "de caracteres que terá a senha, crie uma lista com todos os caracteres disponíveis para a\n",
    "senha e com o random sorteie a qual de dígitos terá a senha"
   ]
  },
  {
   "cell_type": "code",
   "execution_count": null,
   "metadata": {},
   "outputs": [],
   "source": [
    "import random\n",
    "def senha(quantinicial, final):\n",
    "    caracteres = ['1', '2', '3', '4', '5', '6', '7', '8', '9', '0', '!', '@', '$', '#', '%', '¨', '&', '*', '.', ',', '/', 'q', 'w', 'e', 'r', 't']\n",
    "    for caracter in caracteres:\n",
    "     caracter= random.randint(quantinicial, final)\n",
    "    senhausuario.append(caracter)\n",
    "    return(senhausuario)\n",
    "senha(1, 12)"
   ]
  },
  {
   "cell_type": "code",
   "execution_count": 29,
   "metadata": {},
   "outputs": [
    {
     "data": {
      "text/plain": [
       "['1', '2', '!', 'h', 'h', '9', '2']"
      ]
     },
     "execution_count": 29,
     "metadata": {},
     "output_type": "execute_result"
    }
   ],
   "source": [
    "import random\n",
    "def senha_aleatoria(quantidade_caractere):\n",
    "  senha = ''\n",
    "  lista = ['1', '2', '3', '4','5', '6', '7', '8', '!', '9', '*', 'h', 'g', 'j' '@', '#', '$']\n",
    "  senha= random.choices(lista, weights= None, cum_weights= None, k= quantidade_caractere)\n",
    "  \n",
    "    \n",
    "\n",
    "  return(senha)\n",
    "senha_aleatoria(7)\n"
   ]
  },
  {
   "cell_type": "code",
   "execution_count": 189,
   "metadata": {},
   "outputs": [
    {
     "data": {
      "text/plain": [
       "' A senha escolhida foi:  5 g5  '"
      ]
     },
     "execution_count": 189,
     "metadata": {},
     "output_type": "execute_result"
    }
   ],
   "source": [
    "def senha_aleatoria(quantidade_caractere):\n",
    "    lista = ['1', '2', '3', '4','5', '6', '7', '8', '!', '9', '*', 'h', 'g', 'j' '@', '#', '$']\n",
    "    senha= ''\n",
    "    import random\n",
    "    for x in range(quantidade_caractere):\n",
    "        senha += random.choice(lista)\n",
    "    return(f' A senha escolhida foi: {senha}')\n",
    "senha_aleatoria(7)\n",
    "    "
   ]
  },
  {
   "cell_type": "code",
   "execution_count": 261,
   "metadata": {},
   "outputs": [
    {
     "data": {
      "text/plain": [
       "'yttc!6w'"
      ]
     },
     "execution_count": 261,
     "metadata": {},
     "output_type": "execute_result"
    }
   ],
   "source": [
    "def senha_aleatoria(quantidade_caractere):\n",
    "    lista = '12345678!9*hgj@#$awrtyqwertyuiopasdfghjklzxcvbnm'\n",
    "    senha = ''\n",
    "    import random\n",
    "    for x in range(quantidade_caractere):\n",
    "        senha += random.choice(lista)\n",
    "    return(senha)\n",
    "senha_aleatoria(7)"
   ]
  },
  {
   "cell_type": "code",
   "execution_count": 331,
   "metadata": {},
   "outputs": [
    {
     "name": "stdout",
     "output_type": "stream",
     "text": [
      " A senha escolhida foi #hltuolesb)\n"
     ]
    }
   ],
   "source": [
    "import random\n",
    "def senha_aleatoria(tamanho):\n",
    "    lista = '12345678!9*hgj@#$awrtyqwertyuiopasdfghjklzxcvbnm'\n",
    "    senha =''\n",
    "    for x in range(tamanho):\n",
    "        senha = senha + random.choice(lista)\n",
    "    return(senha)\n",
    "\n",
    "print(f' A senha escolhida foi {senha_aleatoria(10)})')"
   ]
  }
 ],
 "metadata": {
  "kernelspec": {
   "display_name": "Python 3",
   "language": "python",
   "name": "python3"
  },
  "language_info": {
   "codemirror_mode": {
    "name": "ipython",
    "version": 3
   },
   "file_extension": ".py",
   "mimetype": "text/x-python",
   "name": "python",
   "nbconvert_exporter": "python",
   "pygments_lexer": "ipython3",
   "version": "3.12.2"
  }
 },
 "nbformat": 4,
 "nbformat_minor": 2
}
