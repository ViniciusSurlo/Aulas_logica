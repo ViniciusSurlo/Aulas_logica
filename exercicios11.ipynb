{
 "cells": [
  {
   "cell_type": "markdown",
   "metadata": {},
   "source": [
    "1. Faça um Programa que mostre a mensagem \"Seja Bem-Vindo ao SESI 😎\" na tela."
   ]
  },
  {
   "cell_type": "code",
   "execution_count": 1,
   "metadata": {},
   "outputs": [
    {
     "name": "stdout",
     "output_type": "stream",
     "text": [
      "Seja Bem-vinfo ao SESI 😎\n"
     ]
    }
   ],
   "source": [
    "print('Seja Bem-vinfo ao SESI 😎')"
   ]
  },
  {
   "cell_type": "markdown",
   "metadata": {},
   "source": [
    "2. Faça um Programa que peça um número e então mostre a mensagem “O número\n",
    "informado foi [número]”."
   ]
  },
  {
   "cell_type": "code",
   "execution_count": 2,
   "metadata": {},
   "outputs": [
    {
     "name": "stdout",
     "output_type": "stream",
     "text": [
      " O número informado foi 3.0\n"
     ]
    }
   ],
   "source": [
    "numero = float(input('Insira um número: '))\n",
    "print(f' O número informado foi {numero}')\n"
   ]
  },
  {
   "cell_type": "markdown",
   "metadata": {},
   "source": [
    "3. Faça um programa que receba 2 números inteiros e exiba a divisão entre eles"
   ]
  },
  {
   "cell_type": "code",
   "execution_count": 3,
   "metadata": {},
   "outputs": [
    {
     "name": "stdout",
     "output_type": "stream",
     "text": [
      "O resultado da divisão entre 4.0 e 2.0 é igual a = 2.0\n"
     ]
    }
   ],
   "source": [
    "numero1 = float(input('Insira um número: '))\n",
    "numero2 = float(input('Insira um número: '))\n",
    "print(f'O resultado da divisão entre {numero1} e {numero2} é igual a = {numero1/numero2}')"
   ]
  },
  {
   "cell_type": "markdown",
   "metadata": {},
   "source": [
    "4. Faça um Programa que pergunte quanto você ganha por hora e o número de horas\n",
    "trabalhadas no mês. Calcule e mostre o total do seu salário no referido mês."
   ]
  },
  {
   "cell_type": "code",
   "execution_count": 4,
   "metadata": {},
   "outputs": [
    {
     "name": "stdout",
     "output_type": "stream",
     "text": [
      "Você recebe: R$ 40.0 por hora, trabalha 160 horas por mês, seu salário é igual a: R$ 6400.0\n"
     ]
    }
   ],
   "source": [
    "ganhar_hora = float(input('Quanto você recebe por hora'))\n",
    "horas_trabalhadas = int(input('Quantas horas você trabalha no mês'))\n",
    "salario = ganhar_hora * horas_trabalhadas\n",
    "print(f'Você recebe: R$ {ganhar_hora} por hora, trabalha {horas_trabalhadas} horas por mês, seu salário é igual a: R$ {salario}')"
   ]
  },
  {
   "cell_type": "markdown",
   "metadata": {},
   "source": [
    "5. Faça um Programa que verifique se uma letra digitada é \"F\" ou \"M\". Conforme a letra\n",
    "escrever: F - Feminino, M - Masculino, Sexo Inválido."
   ]
  },
  {
   "cell_type": "code",
   "execution_count": 7,
   "metadata": {},
   "outputs": [
    {
     "name": "stdout",
     "output_type": "stream",
     "text": [
      "Sexo inválido\n"
     ]
    }
   ],
   "source": [
    "letra = input('Digite uma letra').lower()\n",
    "if letra == 'm':\n",
    "    print(f' A letra ({letra}) corresponde ao sexo Masculino ')\n",
    "elif letra == 'f':\n",
    "    print(f' A letra ({letra}) corresponde ao sexo feminino ')\n",
    "else:\n",
    "    print('Sexo inválido')\n"
   ]
  },
  {
   "cell_type": "markdown",
   "metadata": {},
   "source": [
    "6. Tendo como dado de entrada a altura (h) de uma pessoa e o sexo, construa um algoritmo\n",
    "que calcule seu peso ideal, utilizando as seguintes fórmulas:\n",
    "Para homens: (72.7 * altura) – 58 Para mulheres: (62.1 * altura) - 44.7"
   ]
  },
  {
   "cell_type": "code",
   "execution_count": 8,
   "metadata": {},
   "outputs": [
    {
     "name": "stdout",
     "output_type": "stream",
     "text": [
      "Seu peso ideal é 72.86000000000001\n"
     ]
    }
   ],
   "source": [
    "altura = float(input('Insira a sua altura'))\n",
    "sexo = input('Insira a seu sexo').lower()\n",
    "pesoideal = (72.7 * altura) - 58\n",
    "if sexo == 'masculino':\n",
    "    print(f'Seu peso ideal é {pesoideal:.2f}')\n",
    "elif sexo == 'feminino':\n",
    "    print(f'Seu peso ideal é {pesoideal:.2f}')\n",
    "    \n"
   ]
  },
  {
   "cell_type": "markdown",
   "metadata": {},
   "source": [
    "7. Faça um Programa que pergunte quanto você ganha por hora e o número de horas\n",
    "trabalhadas no mês.\n",
    "Calcule e mostre o total do seu salário no referido mês, sabendo-se que são descontados\n",
    "11% para o Imposto de Renda, 8% para o INSS e 5% para o sindicato, faça um programa\n",
    "que nos dê: salário bruto. quanto pagou ao INSS. quanto pagou ao sindicato. o salário\n",
    "líquido. calcule os descontos e o salário líquido, conforme a tabela abaixo:\n",
    "+ Salário Bruto : R$\n",
    "- IR (11%) : R$\n",
    "- INSS (8%) : R$\n",
    "- Sindicato ( 5%) : R$\n",
    "= Salário Liquido : R$\n",
    "Obs.: Salário Bruto - Descontos = Salário Líquido."
   ]
  },
  {
   "cell_type": "code",
   "execution_count": 11,
   "metadata": {},
   "outputs": [
    {
     "name": "stdout",
     "output_type": "stream",
     "text": [
      "Salario bruto: R$ 1400.0\n",
      "INSS: R$ 112.0\n",
      "Sindicato: R$ 70.0\n",
      "Imposto de renda: R$ 154.0\n",
      "total de descontos: R$ 336.0\n",
      "Salario liquido é igual a: R$ 1064.0 \n"
     ]
    }
   ],
   "source": [
    "ganhar_hora = float(input('Quanto você recebe por hora'))\n",
    "horas_trabalhadas = int(input('Quantas horas você trabalha no mês'))\n",
    "salario_bruto = ganhar_hora * horas_trabalhadas\n",
    "imposto_renda = salario_bruto * 11 / 100\n",
    "Inss = salario_bruto * 8 / 100\n",
    "sindicato = salario_bruto * 5 / 100\n",
    "total_descontos = imposto_renda + Inss + sindicato \n",
    "salario_liquido = salario_bruto - total_descontos\n",
    "print(f'Salario bruto: R$ {salario_bruto}')\n",
    "print(f'INSS: R$ {Inss}')\n",
    "print(f'Sindicato: R$ {sindicato}')\n",
    "print(f'Imposto de renda: R$ {imposto_renda}')\n",
    "print(f'total de descontos: R$ {total_descontos}')\n",
    "print(f'Salario liquido é igual a: R$ {salario_liquido} ')"
   ]
  },
  {
   "cell_type": "markdown",
   "metadata": {},
   "source": [
    "8. Faça uma função que peça um valor e mostre na tela se o valor é positivo ou negativo."
   ]
  },
  {
   "cell_type": "code",
   "execution_count": 13,
   "metadata": {},
   "outputs": [
    {
     "name": "stdout",
     "output_type": "stream",
     "text": [
      " O valor -9.0 é negativo\n"
     ]
    }
   ],
   "source": [
    "numero = float(input('Insira um número: '))\n",
    "if numero > 0:\n",
    "    print(f' O valor {numero} é positivo')\n",
    "else:\n",
    "    print(f' O valor {numero} é negativo')"
   ]
  },
  {
   "cell_type": "markdown",
   "metadata": {},
   "source": [
    "9. Faça uma função que imprima na tela apenas os números ímpares entre 1 e 50."
   ]
  },
  {
   "cell_type": "code",
   "execution_count": null,
   "metadata": {},
   "outputs": [],
   "source": [
    "def impar():\n",
    "    for numero in range(1, 51):\n",
    "        if numero % 2 > 0:\n",
    "            print(numero)\n",
    "impar()"
   ]
  },
  {
   "cell_type": "markdown",
   "metadata": {},
   "source": [
    "10. Faça uma função que receba dois números inteiros e gere os números inteiros que estão\n",
    "no intervalo compreendido por eles."
   ]
  },
  {
   "cell_type": "code",
   "execution_count": 20,
   "metadata": {},
   "outputs": [
    {
     "name": "stdout",
     "output_type": "stream",
     "text": [
      "10\n",
      "11\n",
      "12\n",
      "13\n",
      "14\n",
      "15\n",
      "16\n",
      "17\n",
      "18\n",
      "19\n"
     ]
    }
   ],
   "source": [
    "def intervalo():\n",
    "    numero1 = int(input('Insira um número: '))\n",
    "    numero2 = int(input('Insira um número: '))\n",
    "    for numeros in range(numero1, numero2):\n",
    "        numero1 + 1\n",
    "        print(numeros)\n",
    "intervalo()\n",
    "\n",
    "    "
   ]
  },
  {
   "cell_type": "markdown",
   "metadata": {},
   "source": [
    "11. Faça uma função que peça um número positivo e em seguida mostre este número invertido.\n",
    "Exemplo: 12376489 => 98467321"
   ]
  },
  {
   "cell_type": "code",
   "execution_count": 55,
   "metadata": {},
   "outputs": [
    {
     "name": "stdout",
     "output_type": "stream",
     "text": [
      "['0', '0', '2', '1']\n"
     ]
    }
   ],
   "source": [
    "def invertida(numeros):\n",
    "     novo_numero = []\n",
    "     numeros = (input('Insira um número: '))\n",
    "     for numero in numeros:\n",
    "          novo_numero.append(numero)\n",
    "     novo_numero.reverse()\n",
    "     print(novo_numero)\n",
    "    \n",
    "          \n",
    "invertida(1200)\n"
   ]
  },
  {
   "cell_type": "markdown",
   "metadata": {},
   "source": [
    "12. Faça um Programa que leia um vetor A com 5 números inteiros, calcule e mostre a soma\n",
    "dos quadrados dos elementos do vetor."
   ]
  },
  {
   "cell_type": "code",
   "execution_count": 52,
   "metadata": {},
   "outputs": [
    {
     "name": "stdout",
     "output_type": "stream",
     "text": [
      "1 ^ 2 = 1\n",
      "2 ^ 2 = 4\n",
      "3 ^ 2 = 9\n",
      "4 ^ 2 = 16\n",
      "5 ^ 2 = 25\n"
     ]
    }
   ],
   "source": [
    "vetora= [1, 2, 3, 4, 5]\n",
    "for numero in vetora:\n",
    "    print(f'{numero} ^ 2 = {numero * numero}')\n"
   ]
  },
  {
   "cell_type": "markdown",
   "metadata": {},
   "source": [
    "13. Faça um Programa que leia 8 números inteiros e armazene-os num vetor. Armazene os\n",
    "números pares no vetor PAR e os números IMPARES no vetor impar. Imprima os três\n",
    "vetores."
   ]
  },
  {
   "cell_type": "code",
   "execution_count": 53,
   "metadata": {},
   "outputs": [
    {
     "name": "stdout",
     "output_type": "stream",
     "text": [
      " A lista de números inscritos foi: [10, 22, 30, 45, 60, 80, 65, 100, 35]\n",
      " A lista de números pares foi de: [10, 22, 30, 60, 80, 100]\n",
      " A lista de números impares foi de: [45, 65, 35]\n"
     ]
    }
   ],
   "source": [
    "quantnumero = 0 \n",
    "lista_numeros = []\n",
    "lista_numerospares = []\n",
    "lista_numerosimpares = []\n",
    "while quantnumero <= 8:\n",
    "    numero = int(input('Insira um número: '))\n",
    "    lista_numeros.append(numero)\n",
    "    quantnumero+=1\n",
    "    if numero % 2 == 0:\n",
    "        lista_numerospares.append(numero)\n",
    "    else:\n",
    "        lista_numerosimpares.append(numero)\n",
    "print(f' A lista de números inscritos foi: {lista_numeros}')\n",
    "print(f' A lista de números pares foi de: {lista_numerospares}')\n",
    "print(f' A lista de números impares foi de: {lista_numerosimpares}')\n",
    "\n",
    "\n",
    "\n",
    "    "
   ]
  },
  {
   "cell_type": "markdown",
   "metadata": {},
   "source": [
    "14. Numa eleição existem três candidatos. Faça um programa que peça o número total de\n",
    "eleitores. Peça para cada eleitor votar e ao final mostrar o número de votos de cada\n",
    "candidato."
   ]
  },
  {
   "cell_type": "code",
   "execution_count": null,
   "metadata": {},
   "outputs": [],
   "source": [
    "import random\n",
    "candidato1 = 'Antonio'\n",
    "candidado2 = 'Paulo'\n",
    "candidato3 = 'Vitor Hugo' \n",
    "candidatos = [candidato1, candidado2, candidato3]\n",
    "numero_eleitores = int(input('Insira a quntidade de eleitores'))\n",
    "for numero in numero_eleitores:\n",
    "    numero.random.choice\n",
    "\n",
    "\n"
   ]
  },
  {
   "cell_type": "code",
   "execution_count": null,
   "metadata": {},
   "outputs": [],
   "source": [
    "eleitor = 0\n",
    "def eleicao():\n",
    "    global eleitor\n",
    "    votos_antonio = 0 \n",
    "    votos_paulo= 0 \n",
    "    votos_vitorhugo = 0 \n",
    "    numero_eleitores = int(input('Insira a quntidade de eleitores'))\n",
    "    for eleitor in numero_eleitores:\n",
    "        escolha_voto = input('Em quem deseja votar').lower()\n",
    "        if escolha_voto == 'Antonio':\n",
    "            votos_antonio +=1\n",
    "        elif escolha_voto == 'paulo':\n",
    "            votos_paulo +=1\n",
    "        elif escolha_voto == 'vitor hugo':\n",
    "            votos_vitorhugo += 1\n",
    "    print(f'Antonio: {votos_antonio} votos')\n",
    "    print(f'Paulo: {votos_paulo} votos')\n",
    "    print(f'Vitor Hugo: {votos_vitorhugo} votos')\n",
    "\n",
    "eleicao()\n",
    "            \n"
   ]
  },
  {
   "cell_type": "code",
   "execution_count": 71,
   "metadata": {},
   "outputs": [
    {
     "name": "stdout",
     "output_type": "stream",
     "text": [
      "Antonio: 0 votos\n",
      "Paulo: 2 votos\n",
      "Vitor Hugo: 1 votos\n"
     ]
    }
   ],
   "source": [
    "\n",
    "votos_antonio = 0 \n",
    "votos_paulo= 0 \n",
    "votos_vitorhugo = 0 \n",
    "numero_eleitores = int(input('Insira a quntidade de eleitores'))\n",
    "for x in range (numero_eleitores): \n",
    "    escolha_voto = input('Em quem deseja votar').lower()\n",
    "    if escolha_voto == 'Antonio':\n",
    "        votos_antonio +=1\n",
    "    elif escolha_voto == 'paulo':\n",
    "        votos_paulo +=1\n",
    "    elif escolha_voto == 'vitor hugo':\n",
    "        votos_vitorhugo += 1\n",
    "print(f'Antonio: {votos_antonio} votos')\n",
    "print(f'Paulo: {votos_paulo} votos')\n",
    "print(f'Vitor Hugo: {votos_vitorhugo} votos')\n"
   ]
  },
  {
   "cell_type": "markdown",
   "metadata": {},
   "source": [
    "15. Faça um Programa que em uma função receba 4 notas bimestrais e mostre a média."
   ]
  },
  {
   "cell_type": "code",
   "execution_count": 68,
   "metadata": {},
   "outputs": [
    {
     "name": "stdout",
     "output_type": "stream",
     "text": [
      "A media calculada das notas recebidas 8.0\n"
     ]
    }
   ],
   "source": [
    "def media():\n",
    "    quantnumero = 0\n",
    "    media = 0\n",
    "    totaldenotas = 0\n",
    "    while quantnumero <= 4:\n",
    "        nota = float(input('Insira uma nota: '))\n",
    "        totaldenotas += nota\n",
    "        quantnumero +=1\n",
    "    media = totaldenotas / 4\n",
    "    print(f'A media calculada das notas recebidas {media}')\n",
    "\n",
    "media()\n",
    "\n",
    "\n"
   ]
  },
  {
   "cell_type": "markdown",
   "metadata": {},
   "source": [
    "16. Faça um Programa que em uma função receba uma medida em metros e converta retorne\n",
    "o valor convertido para centímetros."
   ]
  },
  {
   "cell_type": "code",
   "execution_count": 73,
   "metadata": {},
   "outputs": [
    {
     "name": "stdout",
     "output_type": "stream",
     "text": [
      "10000\n"
     ]
    }
   ],
   "source": [
    "def conversao(medida_metros):\n",
    "    medida_centimetros = medida_metros * 100\n",
    "    print(medida_centimetros)\n",
    "\n",
    "conversao(100)\n",
    "    "
   ]
  },
  {
   "cell_type": "markdown",
   "metadata": {},
   "source": [
    "17. Faça um programa que receba a temperatura média de cada mês do ano e armazene-as\n",
    "em uma lista. Após isto, calcule a média anual das temperaturas e mostre todas as\n",
    "temperaturas acima da média anual, e em que mês elas ocorreram (mostrar o mês por\n",
    "extenso: 1 – Janeiro, 2 – Fevereiro, . . . )."
   ]
  },
  {
   "cell_type": "code",
   "execution_count": null,
   "metadata": {},
   "outputs": [],
   "source": [
    "listatemperatura_media = []\n",
    "for x in range(4):\n",
    "    lista_temperatura = float(input('Insira a temperatura media do mês'))\n",
    "total_temperatura = sum(lista_temperatura)\n",
    "print(total_temperatura)\n",
    "    \n",
    "\n",
    "    \n"
   ]
  },
  {
   "cell_type": "code",
   "execution_count": 2,
   "metadata": {},
   "outputs": [
    {
     "name": "stdout",
     "output_type": "stream",
     "text": [
      "Meses acima da média de temperatura anual: \n"
     ]
    }
   ],
   "source": [
    "lista_temperatura = []\n",
    "for x in range(2):\n",
    "    temperatura_mes = float(input('Insira a Temperatura media do mês: '))\n",
    "    lista_temperatura.append(temperatura_mes)\n",
    "soma = sum(lista_temperatura)\n",
    "media_anual = soma / 12\n",
    "print('Meses acima da média de temperatura anual: ')\n",
    "for pos, valor in enumerate (lista_temperatura):\n",
    "    if pos == 0:\n",
    "        mes = 'Janeiro'\n",
    "    elif pos == 1:\n",
    "        mes = 'Fevereiro'\n",
    "    elif pos == 2:\n",
    "        mes = 'Março'\n",
    "    elif pos == 3:\n",
    "        mes = 'Abril'\n",
    "    elif pos == 4:\n",
    "        mes = 'Maio'\n",
    "    elif pos == 5:\n",
    "        mes = 'Junho'\n",
    "    elif pos == 6:\n",
    "        mes = 'julho'\n",
    "    elif pos == 7:\n",
    "        mes = 'Agosto'\n",
    "    elif pos == 8:\n",
    "        mes = 'Setembro'\n",
    "    elif pos == 9:\n",
    "        mes = 'Outubro'\n",
    "    elif pos == 10:\n",
    "        mes = 'Novembro'\n",
    "    elif pos == 11:\n",
    "        mes = 'Dezembro'\n",
    "    elif valor > media_anual:\n",
    "        print(f' {mes} {valor}º graus')"
   ]
  }
 ],
 "metadata": {
  "kernelspec": {
   "display_name": "Python 3",
   "language": "python",
   "name": "python3"
  },
  "language_info": {
   "codemirror_mode": {
    "name": "ipython",
    "version": 3
   },
   "file_extension": ".py",
   "mimetype": "text/x-python",
   "name": "python",
   "nbconvert_exporter": "python",
   "pygments_lexer": "ipython3",
   "version": "3.12.2"
  }
 },
 "nbformat": 4,
 "nbformat_minor": 2
}
