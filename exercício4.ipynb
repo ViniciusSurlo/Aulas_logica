{
 "cells": [
  {
   "cell_type": "markdown",
   "metadata": {},
   "source": [
    "DESAFIOS"
   ]
  },
  {
   "cell_type": "markdown",
   "metadata": {},
   "source": [
    "Desafio 01- Peça o salário do funcionário e calcule o valor do IRPF e INSS do funcionário e quanto ele irá receber no final do mês, considerando a seguinte tabela:"
   ]
  },
  {
   "cell_type": "code",
   "execution_count": null,
   "metadata": {},
   "outputs": [],
   "source": [
    "#IRPF\n",
    "salario= float (input('insira o valor do seu salário R$:'))\n",
    "if salario <= 2259.20:\n",
    "    print(f'Você receberá {salario}')\n",
    "elif salario<= 2826.65:\n",
    "    print(f'Você receberá {salario-(salario*7.5/100)}')\n",
    "elif salario<=3751.05:\n",
    "    print(f'Você receberá {salario-(salario*15/100)}')\n",
    "elif salario<=4664.68:\n",
    "    print(f'Você receberá {salario-(salario*22.5/100)}')\n",
    "elif salario>4664.68:\n",
    "    print(f'Você receberá {salario-(salario*27.5/100)}')\n",
    "\n"
   ]
  },
  {
   "cell_type": "code",
   "execution_count": null,
   "metadata": {},
   "outputs": [],
   "source": [
    "#INSS\n",
    "salario= float (input('insira o valor do seu salário R$:'))\n",
    "if salario <= 1412.00:\n",
    "    print(f'seu salário será: R$ {salario- salario*7.5/100}')\n",
    "if salario > 1412.00 and salario <= 2666.68:\n",
    "    print(f'seu salário será: R$ {salario- salario*9/100}')\n",
    "if salario > 1412.00 and salario > 2666.68 and salario <=4000:\n",
    "    print(f'seu salário será: R$ {salario- salario*12/100}')\n",
    "if salario > 1412.00 and salario > 2666.68 and salario > 4000 and salario <= 7786.02:\n",
    "    print(f'seu salário será: R$ {salario- salario*14/100}')\n",
    "if salario > 1412.00 and salario > 2666.68 and salario > 4000 and salario > 7786.02:\n",
    "    print(f'seu salário será: R$ {salario-908.85}')\n"
   ]
  },
  {
   "cell_type": "code",
   "execution_count": 1,
   "metadata": {},
   "outputs": [
    {
     "name": "stdout",
     "output_type": "stream",
     "text": [
      "O desconto do IRPF é zero, Você receberá: R$ 1000.0\n",
      "o desconto do INSS é: 75.0,  Você receberá: R$ 925.0\n",
      "o desconto do INSS é: 90.0,  Você receberá: R$ 910.0\n",
      "o desconto do INSS é: 120.0,  Você receberá: R$ 880.0\n",
      "o desconto do INSS é:140.0,  Você receberá: R$ 860.0\n"
     ]
    }
   ],
   "source": [
    "#IRPF\n",
    "salario= float (input('insira o valor do seu salário R$:'))\n",
    "if salario <= 2259.20:\n",
    "    print(f'O desconto do IRPF é zero, Você receberá: R$ {salario}')\n",
    "elif salario<= 2826.65:\n",
    "    print(f'O desconto do IRPF é: R$ {salario*7.5/100} o salario é:{salario-(salario*7.5/100)}')\n",
    "elif salario<=3751.05:\n",
    "    print(f'O desconto do IRPF é: R$ {salario*15/100} o salario é: {salario-(salario*15/100)}')\n",
    "elif salario<=4664.68:\n",
    "    print(f'O desconto do IRPF é: R$ {salario*22.5/100} o salario é:{salario-(salario*22.5/100)}')\n",
    "elif salario>4664.68:\n",
    "    print(f'O desconto do IRPF é: R$ {salario*27.5/100} o salario é:{salario-(salario*27.5/100)}')\n",
    "\n",
    "\n",
    "#INSS\n",
    "salarioinss= salario\n",
    "if salarioinss <= 1412.00:\n",
    "    print(f'o desconto do INSS é: {salarioinss*7.5/100},  Você receberá: R$ {salarioinss- salarioinss*7.5/100}')\n",
    "if  salario <= 2666.68:\n",
    "    print(f'o desconto do INSS é: {salarioinss*9/100},  Você receberá: R$ {salarioinss- salarioinss*9/100}')\n",
    "if  salarioinss <=4000:\n",
    "    print(f'o desconto do INSS é: {salarioinss*12/100},  Você receberá: R$ {salarioinss- salarioinss*12/100}')\n",
    "if salarioinss <= 7786.02:\n",
    "    print(f'o desconto do INSS é:{salarioinss*14/100},  Você receberá: R$ {salarioinss- salarioinss*14/100}')\n",
    "if  salarioinss > 7786.02:\n",
    "    print(f'o desconto do INSS é: 908.85 {salarioinss-908.85}')\n",
    "\n",
    "\n"
   ]
  },
  {
   "cell_type": "code",
   "execution_count": 2,
   "metadata": {},
   "outputs": [
    {
     "name": "stdout",
     "output_type": "stream",
     "text": [
      " Seu salário líquido será: R$ 1911.00\n"
     ]
    }
   ],
   "source": [
    "salario= float (input('insira o valor do seu salário R$:'))\n",
    "if salario <= 2259.20:\n",
    "    desconto_irpf= 0 \n",
    "elif salario <= 2826.65:\n",
    "    desconto_irpf= salario * 0.075\n",
    "elif salario <= 3751.05:\n",
    "    desconto_irpf= salario * 0.15\n",
    "elif salario <= 4664.68:\n",
    "    desconto_irpf= salario * 0.225\n",
    "else:\n",
    "    desconto_irpf= salario * 0.275\n",
    "\n",
    "#Considerando a tabela de INSS\n",
    "if salario <= 1412 :\n",
    "    desconto_inss= salario * 0.075\n",
    "elif salario <= 2666.68 :\n",
    "    desconto_inss = salario * 0.09 \n",
    "elif salario <= 4000.03:\n",
    "    desconto_inss = salario * 0.12\n",
    "elif salario <= 7786.02:\n",
    "    desconto_inss = salario * 0.14\n",
    "else:\n",
    "    desconto_inss= 908.85\n",
    "\n",
    "salario_liquido= salario - desconto_irpf - desconto_inss\n",
    "print (f' Seu salário líquido será: R$ {salario_liquido:.2f}')\n",
    "\n"
   ]
  },
  {
   "cell_type": "markdown",
   "metadata": {},
   "source": [
    "2. Para melhorar nosso desafio 01, vamos criar um novo calculando de forma real.\n",
    "Peça o salário do funcionário e calcule o valor do IRPF e INSS do funcionário e quanto ele irá\n",
    "receber no final do mês, considerando as seguintes tabelas e fórmulas:\n",
    "- Para calcular o INSS é calculado sobre o valor bruto do salário\n",
    "- Para calcular o IRPF é aplicado a tabela abaixo sobre o valor bruto menos o valor do INSS"
   ]
  },
  {
   "cell_type": "code",
   "execution_count": 1,
   "metadata": {},
   "outputs": [
    {
     "name": "stdout",
     "output_type": "stream",
     "text": [
      "seu salário será: R$ 925.0\n"
     ]
    }
   ],
   "source": [
    "salario= float (input('insira o valor do seu salário R$:'))\n",
    "if salario <= 1412.00:\n",
    "    print(f'seu salário será: R$ {salario- salario*7.5/100}')\n",
    "if salario > 1412.00 and salario <= 2666.68:\n",
    "    print(f'seu salário será: R$ {salario- salario*9/100}')\n",
    "if salario > 1412.00 and salario > 2666.68 and salario <=4000:\n",
    "    print(f'seu salário será: R$ {salario- salario*12/100}')\n",
    "if salario > 1412.00 and salario > 2666.68 and salario > 4000 and salario <= 7786.02:\n",
    "    print(f'seu salário será: R$ {salario- salario*14/100}')\n",
    "if salario > 1412.00 and salario > 2666.68 and salario > 4000 and salario > 7786.02:\n",
    "    print(f'seu salário será: R$ {salario-908.85}')\n",
    "\n",
    "\n",
    "\n",
    "\n",
    "\n",
    "\n",
    "    "
   ]
  }
 ],
 "metadata": {
  "kernelspec": {
   "display_name": "Python 3",
   "language": "python",
   "name": "python3"
  },
  "language_info": {
   "codemirror_mode": {
    "name": "ipython",
    "version": 3
   },
   "file_extension": ".py",
   "mimetype": "text/x-python",
   "name": "python",
   "nbconvert_exporter": "python",
   "pygments_lexer": "ipython3",
   "version": "3.12.2"
  }
 },
 "nbformat": 4,
 "nbformat_minor": 2
}
