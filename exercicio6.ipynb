{
 "cells": [
  {
   "cell_type": "markdown",
   "metadata": {},
   "source": [
    "Utilizando o comando for, exiba todos os números ímpares, de 1 a 40 "
   ]
  },
  {
   "cell_type": "code",
   "execution_count": null,
   "metadata": {},
   "outputs": [],
   "source": [
    "for numero in range(1, 40):\n",
    "    if numero % 2 != 0:\n",
    "        print(numero)\n",
    "    "
   ]
  },
  {
   "cell_type": "markdown",
   "metadata": {},
   "source": [
    "2. Gere os 6 números do sorteio da mega-sena de forma aleatória."
   ]
  },
  {
   "cell_type": "code",
   "execution_count": null,
   "metadata": {},
   "outputs": [],
   "source": [
    "import random\n",
    "\n",
    "for x in range (1, 7) :\n",
    "    x = random.randint (1 , 60)\n",
    "    print(x)\n",
    "    \n",
    "\n",
    "   \n",
    "    "
   ]
  },
  {
   "cell_type": "markdown",
   "metadata": {},
   "source": [
    "3. Receba 5 números e verifique a soma e a quantidade de todos os pares e ímpares digitados"
   ]
  },
  {
   "cell_type": "code",
   "execution_count": 8,
   "metadata": {},
   "outputs": [
    {
     "name": "stdout",
     "output_type": "stream",
     "text": [
      " a soma de todos os valores é 610, a quantidade de pares foi de 5, a quantidade de impar foi de 0\n"
     ]
    }
   ],
   "source": [
    "soma = 0 \n",
    "par= 0\n",
    "impar = 0\n",
    "for x in range(1, 6):\n",
    "    x = int(input('Insira um número: '))\n",
    "    soma = soma + x\n",
    "    if numero % 2 == 0:\n",
    "        par= par + 1\n",
    "    if numero % 2 != 0:\n",
    "        impar = impar + 1\n",
    "print(f' a soma de todos os valores é {soma}, a quantidade de pares foi de {par}, a quantidade de impar foi de {impar}')\n",
    "\n",
    "\n",
    "        \n",
    "\n"
   ]
  },
  {
   "cell_type": "markdown",
   "metadata": {},
   "source": [
    "4. Solicite os parâmetros de início, fim e passo para o laço de repetição usando a função range()\n",
    "e exiba o valor atual da variável de controle a cada iteração. range( x , y , z )"
   ]
  },
  {
   "cell_type": "code",
   "execution_count": 11,
   "metadata": {},
   "outputs": [
    {
     "name": "stdout",
     "output_type": "stream",
     "text": [
      "5\n",
      "10\n",
      "15\n"
     ]
    }
   ],
   "source": [
    "inicio = int (input('insira o número de inicio'))\n",
    "fim = int (input('insira o número de fim'))\n",
    "passo = int (input('insira o número de passo'))\n",
    "for x in range (inicio, fim, passo):\n",
    "    print(x)"
   ]
  },
  {
   "cell_type": "markdown",
   "metadata": {},
   "source": [
    "5. Ler do teclado a idade e o sexo de 10 pessoas, calcule e imprima:\n",
    "• idade média das mulheres\n",
    "• idade média dos homens\n",
    "• idade média do grupo"
   ]
  },
  {
   "cell_type": "code",
   "execution_count": null,
   "metadata": {},
   "outputs": [],
   "source": [
    "nrpessoas = 0 \n",
    "quanthomem = 0\n",
    "quantmulher = 0\n",
    "idadehomem = 0\n",
    "idademulher = 0\n",
    "for nrpessoas in range (1, 5):\n",
    "    sexo = input(' insira qual é o seu sexo: ')\n",
    "    idade = (float (input(' insira a sua idade: ')))\n",
    "    if sexo == 'homem':\n",
    "        idadehomem = idadehomem + idade\n",
    "        quanthomem += 1\n",
    "    if sexo == 'mulher':\n",
    "        idademulher= idademulher + idade\n",
    "        quantmulher += 1\n",
    "print(f' A idade media dos homens foi de: {idadehomem / quanthomem }, a idade media das mulheres foi de {idademulher / quantmulher}, a media da idade total foi de: { (idadehomem + idademulher) / 5}')"
   ]
  },
  {
   "cell_type": "markdown",
   "metadata": {},
   "source": [
    "6. Escreva um programa que mostre todos os números entre 5 e 100 que são divisíveis por 7. Os\n",
    "números obtidos devem ser impressos em sequência."
   ]
  },
  {
   "cell_type": "code",
   "execution_count": 26,
   "metadata": {},
   "outputs": [
    {
     "name": "stdout",
     "output_type": "stream",
     "text": [
      "7\n",
      "14\n",
      "21\n",
      "28\n",
      "35\n",
      "42\n",
      "49\n",
      "56\n",
      "63\n",
      "70\n",
      "77\n",
      "84\n",
      "91\n",
      "98\n"
     ]
    }
   ],
   "source": [
    "for x in range (5, 100):\n",
    "    if x % 7 == 0:\n",
    "        print(x)\n"
   ]
  },
  {
   "cell_type": "markdown",
   "metadata": {},
   "source": [
    "7. Escreva um programa em Python que receba uma string do usuário e mostre de trás para\n",
    "frente."
   ]
  },
  {
   "cell_type": "code",
   "execution_count": null,
   "metadata": {},
   "outputs": [],
   "source": [
    "palavra = input(' Digite uma palavra: ')\n",
    "nova_palavra = ''\n",
    "for letra in palavra :\n",
    "    nova_palavra = letra + nova_palavra \n",
    "\n",
    "print(nova_palavra)"
   ]
  },
  {
   "cell_type": "code",
   "execution_count": null,
   "metadata": {},
   "outputs": [],
   "source": [
    "string = input(' Insira um caractere: ')\n",
    "print (string[:: -1])"
   ]
  },
  {
   "cell_type": "markdown",
   "metadata": {},
   "source": [
    "Objetivo:\n",
    "Este programa visa auxiliar o usuário no aprendizado da tabuada de um número específico, fornecendo\n",
    "feedback interativo e estatísticas de desempenho ao final.\n",
    "Funcionalidades:\n",
    "Solicita ao usuário o número que deseja treinar.\n",
    "Apresenta perguntas de multiplicação de 1 a 10 para o número escolhido.\n",
    "Valida cada resposta do usuário, fornecendo feedback em tempo real: \"CORRETO!\" para respostas corretas. \"QUE PENA, VOCÊ ERROU! O valor correto é X.\" para respostas incorretas, substituindo \"X\" pelo valor\n",
    "correto.\n",
    "Exibe estatísticas ao final da sessão: \"Total de acertos: Y\"\n",
    "\"Total de erros: Z\""
   ]
  },
  {
   "cell_type": "code",
   "execution_count": 32,
   "metadata": {},
   "outputs": [
    {
     "name": "stdout",
     "output_type": "stream",
     "text": [
      " 3 x 1 = \n",
      " 3 x 1 = 3\n",
      "Você acertou!, a resposta correta é 3!\n",
      " 3 x 2 = \n",
      " 3 x 2 = 6\n",
      "Você errou, a resposta correta era 6\n",
      " 3 x 3 = \n",
      " 3 x 3 = 9\n",
      "Você acertou!, a resposta correta é 9!\n",
      " 3 x 4 = \n",
      " 3 x 4 = 12\n",
      "Você acertou!, a resposta correta é 12!\n",
      " 3 x 5 = \n",
      " 3 x 5 = 15\n",
      "Você acertou!, a resposta correta é 15!\n",
      " 3 x 6 = \n",
      " 3 x 6 = 18\n",
      "Você acertou!, a resposta correta é 18!\n",
      " 3 x 7 = \n",
      " 3 x 7 = 21\n",
      "Você errou, a resposta correta era 21\n",
      " 3 x 8 = \n",
      " 3 x 8 = 24\n",
      "Você errou, a resposta correta era 24\n",
      " 3 x 9 = \n",
      " 3 x 9 = 27\n",
      "Você errou, a resposta correta era 27\n",
      " 3 x 10 = \n",
      " 3 x 10 = 30\n",
      "Você errou, a resposta correta era 30\n",
      " Sua quantidade de acertos foi de: 5, sua quantidade de erros foi de 5, a porcentagem de acerto foi de 50.0 %)\n"
     ]
    }
   ],
   "source": [
    "nracerto= 0\n",
    "nrerro= 0\n",
    "nr= int(input('insira o número que deseja praticar a tabuada: '))\n",
    "for x in range (1, 11):\n",
    "    resposta = nr * x\n",
    "    print(f' {nr} x {x} = ')\n",
    "    respostausuario = int(input(' insira a resposta'))\n",
    "    print(f' {nr} x {x} = {nr * x}')\n",
    "    if respostausuario == nr * x:\n",
    "        print (f'Você acertou!, a resposta correta é {nr * x}!')\n",
    "        nracerto = nracerto + 1\n",
    "    if respostausuario != nr * x:\n",
    "        print(f'Você errou, a resposta correta era {nr * x}')\n",
    "        nrerro = nrerro + 1\n",
    "print(f' Sua quantidade de acertos foi de: {nracerto}, sua quantidade de erros foi de {nrerro}, a porcentagem de acerto foi de {nracerto * 100 / 10} %)')"
   ]
  }
 ],
 "metadata": {
  "kernelspec": {
   "display_name": "Python 3",
   "language": "python",
   "name": "python3"
  },
  "language_info": {
   "codemirror_mode": {
    "name": "ipython",
    "version": 3
   },
   "file_extension": ".py",
   "mimetype": "text/x-python",
   "name": "python",
   "nbconvert_exporter": "python",
   "pygments_lexer": "ipython3",
   "version": "3.12.2"
  }
 },
 "nbformat": 4,
 "nbformat_minor": 2
}
